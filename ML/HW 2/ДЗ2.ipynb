{
 "cells": [
  {
   "cell_type": "markdown",
   "metadata": {},
   "source": [
    "В качестве домашнего задания вам предлагается поработать над предсказанием погоды. Файл с данными вы найдете в соответствующей директории. Вам будет доступен датасет weather.csv, ПЕРВЫЕ 75% (shuffle = False) которого нужно взять для обучения, последние 25% - для тестирования.\n",
    "\n",
    "Требуется построить 4 модели которые будут предсказывать целевую переменную <b>RainTomorrow</b> с помощью:\n",
    "\n",
    "   1. логистической регрессии [sklearn.linear_model.LogisticRegression](https://scikit-learn.org/stable/modules/generated/sklearn.linear_model.LogisticRegression.html#sklearn.linear_model.LogisticRegression)\n",
    "   \n",
    "   2. метода ближайших соседей [sklearn.neighbors](https://scikit-learn.org/stable/modules/neighbors.html)\n",
    " \n",
    "   3. Байесовского классификатора [sklearn.naive_bayes](https://scikit-learn.org/stable/modules/naive_bayes.html)\n",
    "   \n",
    "   4. логистической регрессии реализованной самостоятельно\n",
    "\n",
    "Затем следует сравнить результаты моделей (по качеству и времени выполнения) и сделать вывод о том, какая модель и с какими параметрами даёт лучшие результаты.\n",
    "\n",
    "Не забывайте о том, что работа с признаками играет очень большую роль в построении хорошей модели.\n",
    "\n",
    "Краткое описание данных:\n",
    "\n",
    "    Date - Дата наблюдений\n",
    "    Location - Название локации, в которой расположена метеорологическая станция\n",
    "    MinTemp - Минимальная температура в градусах цельсия\n",
    "    MaxTemp - Максимальная температура в градусах цельсия\n",
    "    Rainfall - Количество осадков, зафиксированных за день в мм\n",
    "    Evaporation - Так называемое \"pan evaporation\" класса А (мм) за 24 часа до 9 утра\n",
    "    Sunshine - Число солнечных часов за день\n",
    "    WindGustDir - направление самого сильного порыва ветра за последние 24 часа\n",
    "    WindGustSpeed - скорость (км / ч) самого сильного порыва ветра за последние 24 часа\n",
    "    WindDir9am - направление ветра в 9 утра"
   ]
  },
  {
   "cell_type": "code",
   "execution_count": 3,
   "metadata": {
    "scrolled": true
   },
   "outputs": [],
   "source": [
    "import warnings\n",
    "warnings.filterwarnings(\"ignore\")\n",
    "import pandas as pd\n",
    "import numpy as np\n",
    "import seaborn as sns\n",
    "import time\n",
    "from sklearn.datasets import make_classification\n",
    "import matplotlib.pyplot as plt\n",
    "%matplotlib notebook"
   ]
  },
  {
   "cell_type": "markdown",
   "metadata": {},
   "source": [
    "### Реализация логистической регрессии\n",
    "__Логистическая регрессия__\n",
    "\n",
    "$$p(y|x) = a(x, \\theta) = \\sigma(\\langle x, \\theta \\rangle) = \\frac{1}{1 + \\exp(-\\langle \\theta, x_i \\rangle)}$$"
   ]
  },
  {
   "cell_type": "code",
   "execution_count": 7,
   "metadata": {},
   "outputs": [],
   "source": [
    "theta = np.array([1, 2, 3])\n",
    "\n",
    "X =  np.array([[ 1,  1, 1],\n",
    "               [-1, -2, 1],\n",
    "               [-1, -2, 2],\n",
    "               [-2, -2, -3]\n",
    "              ])\n",
    "\n",
    "y = np.array([1, 1, 0, 0])"
   ]
  },
  {
   "cell_type": "code",
   "execution_count": 8,
   "metadata": {},
   "outputs": [],
   "source": [
    "def probability(theta, X):\n",
    "    result = 1 / (1 + np.exp(-np.dot(X, theta)))\n",
    "    return result\n",
    "prob = probability(theta, X)\n",
    "\n",
    "\n",
    "assert type(prob) == np.ndarray, 'Возвращается неверный тип'\n",
    "assert prob.shape == (X.shape[0],), 'Неверный размер массива'\n",
    "assert (prob.round(3) == [0.998, 0.119, 0.731, 0.]).all(), 'Функция считается неверно'"
   ]
  },
  {
   "cell_type": "markdown",
   "metadata": {},
   "source": [
    "Функция предсказания метки класса, получает на вход вероятности принадлежности к классу 1 и выдает метки классов $y \\in \\{0, 1\\}$"
   ]
  },
  {
   "cell_type": "code",
   "execution_count": 10,
   "metadata": {
    "scrolled": true
   },
   "outputs": [],
   "source": [
    "def binary_class_prediction(theta, X, threshold =.5):\n",
    "    prob =  probability(theta, X)\n",
    "    result = np.where(prob > threshold, 1, 0)\n",
    "    return result\n",
    "\n",
    "y_pred = binary_class_prediction(theta, X)\n",
    "\n",
    "\n",
    "assert type(y_pred) == np.ndarray, 'Возвращается неверный тип'\n",
    "assert y_pred.shape == (X.shape[0],), 'Неверный размер массива'\n",
    "assert min(y_pred) == 0, 'Функция считается неверно'\n",
    "assert max(y_pred) == 1, 'Функция считается неверно'"
   ]
  },
  {
   "cell_type": "markdown",
   "metadata": {},
   "source": [
    "__Функционал качества логистической регрессии__\n",
    "\n",
    "Запишем правдободовие выборки для меток класса $y \\in \\{+1, -1\\}$ \n",
    "\n",
    "$$Likelihood(a, X^\\ell) = \\prod_{i = 1}^{\\ell} a(x_i,\\theta)^{[y_i = +1]} (1 - a(x_i, \\theta))^{[y_i = -1]} → \\operatorname*{max}_{\\theta}$$ \n",
    "\n",
    "Прологарифмируем правдоподобие выборки и перейдем к задаче минимизации:\n",
    "\n",
    "$$Q(a, X^\\ell) =     -\\sum_{i = 1}^{\\ell} \n",
    "        [y_i = +1] \\log a(x_i, \\theta)\n",
    "        +\n",
    "        [y_i = -1] \\log (1 - a(x_i, \\theta)) \\to \\operatorname*{min}_{\\theta}$$ \n",
    "        \n",
    "Подставим $a(x, \\theta)$ в функцинал качества:\n",
    "\n",
    "$$ Q(a, X^\\ell) = -\\sum_{i = 1}^{\\ell} \\left(\n",
    "    [y_i = +1]\n",
    "    \\log \\frac{1}{1 + \\exp(-\\langle \\theta, x_i \\rangle)}\n",
    "    +\n",
    "    [y_i = -1]\n",
    "    \\log \\frac{\\exp(-\\langle \\theta, x_i \\rangle)}{1 + \\exp(-\\langle \\theta, x_i \\rangle)}\n",
    "\\right)\n",
    "=\\\\\n",
    "=\n",
    "-\\sum_{i = 1}^{\\ell} \\left(\n",
    "    [y_i = +1]\n",
    "    \\log \\frac{1}{1 + \\exp(-\\langle \\theta, x_i \\rangle)}\n",
    "    +\n",
    "    [y_i = -1]\n",
    "    \\log \\frac{1}{1 + \\exp(\\langle \\theta, x_i \\rangle)}\n",
    "\\right)\n",
    "=\\\\\n",
    "=\n",
    "\\sum_{i = 1}^{\\ell}\n",
    "    \\log \\left(\n",
    "        1 + \\exp(-y_i \\langle \\theta, x_i \\rangle)\n",
    "    \\right) $$\n",
    "    "
   ]
  },
  {
   "cell_type": "markdown",
   "metadata": {},
   "source": [
    "Итоговый оптимизируемый функционал качества (logloss), записанный для меток классов $y \\in \\{+1, -1\\}$ и усредненный по выборке"
   ]
  },
  {
   "cell_type": "markdown",
   "metadata": {},
   "source": [
    "$$Q(a, X^\\ell) = \\frac{1}{\\ell}\\sum_{i = 1}^{\\ell}\n",
    "    \\log \\left(\n",
    "        1 + \\exp(-y_i \\langle \\theta, x_i \\rangle)\n",
    "    \\right) \\to \\operatorname*{min}_{\\theta}$$"
   ]
  },
  {
   "cell_type": "markdown",
   "metadata": {},
   "source": [
    "Реализуем его в функции logloss:"
   ]
  },
  {
   "cell_type": "code",
   "execution_count": 11,
   "metadata": {},
   "outputs": [],
   "source": [
    "def logloss(theta, X, y):\n",
    "    result = np.mean(y*np.log(1 + np.exp(-np.dot(X, theta))) + (1 - y)*np.log(1 + np.exp(np.dot(X, theta))))\n",
    "    return result"
   ]
  },
  {
   "cell_type": "code",
   "execution_count": 12,
   "metadata": {},
   "outputs": [],
   "source": [
    "assert logloss(theta, X, y).round(3) == 0.861, 'Функция считается неверно'"
   ]
  },
  {
   "cell_type": "markdown",
   "metadata": {},
   "source": [
    "__Алгоритм оптимизации функционала качества. Стохастический градиентный спуск__"
   ]
  },
  {
   "cell_type": "markdown",
   "metadata": {},
   "source": [
    "<b>Вход: </b> Выборка $X^\\ell$, темп обучения $h$\n",
    "\n",
    "<b>Выход: </b> оптимальный вектор весов $\\theta$\n",
    "\n",
    "1.  Инициализировать веса $\\theta$\n",
    "2.  Инициализировать оценку функционала качества: $Q(a, X^\\ell)$\n",
    "3.  <b>Повторять</b>: \n",
    "\n",
    "    Выбрать случайным образом подвыборку объектов $X^{batch} =\\{x_1, \\dots,x_n \\}$ из $X^{\\ell}$\n",
    "    \n",
    "    Рассчитать градиент функционала качества: $\\nabla Q(X^{batch}, \\theta)$\n",
    "    \n",
    "    Обновить веса: $\\theta := \\theta - h\\cdot \\nabla Q(X^{batch}, \\theta)$\n",
    "       \n",
    "    <b>Пока</b> значение $Q$ и/или веса $\\theta$ не сойдутся   "
   ]
  },
  {
   "cell_type": "markdown",
   "metadata": {},
   "source": [
    "Реализуем функцию рассчета градиента функционала качества"
   ]
  },
  {
   "cell_type": "markdown",
   "metadata": {},
   "source": [
    "$$\\frac{\\partial Q(a, X^{batch}) }{\\partial \\theta_j}   = \\frac{\\partial \\frac{1}{n}\\sum_{i = 1}^{n}\n",
    "    \\log \\left(\n",
    "        1 + \\exp(- y_i \\langle \\theta, x_i \\rangle)\n",
    "    \\right)} {\\partial \\theta_j}  = \\frac{1}{n}\\sum_{i = 1}^{n}\n",
    "     \\frac {1}{\n",
    "        1 + \\exp(- y_i \\langle \\theta, x_i \\rangle)} \\cdot  \\exp(- y_i \\langle \\theta, x_i \\rangle) \\cdot -y_i x_{ij}$$"
   ]
  },
  {
   "cell_type": "markdown",
   "metadata": {},
   "source": [
    "Реализуйте рассчет градиента в матричном виде:"
   ]
  },
  {
   "cell_type": "code",
   "execution_count": 13,
   "metadata": {},
   "outputs": [],
   "source": [
    "def gradient(theta, X, y):\n",
    "    result = np.mean((y * np.exp(-np.dot(X, theta)) + (1 - y) * np.exp(np.dot(X, theta))) * \\\n",
    "                     (y / (1 + np.exp(-np.dot(X, theta))) + (1 - y) / (1 + np.exp(np.dot(X, theta)))) * \\\n",
    "                     (-y * X.T), axis=1)\n",
    "    return result\n",
    "\n",
    "assert gradient(theta, X, y).shape == theta.shape, 'Неверный размер массива'"
   ]
  },
  {
   "cell_type": "markdown",
   "metadata": {},
   "source": [
    "Функция обучения уже реализована"
   ]
  },
  {
   "cell_type": "code",
   "execution_count": 14,
   "metadata": {},
   "outputs": [],
   "source": [
    "def fit(X, y, batch_size=10, h=0.05,  iters=100, plot=True):\n",
    "\n",
    "    # получаем размерности матрицы\n",
    "    size, dim = X.shape\n",
    "\n",
    "    # случайная начальная инициализация\n",
    "    theta = np.random.uniform(size=dim)\n",
    "    \n",
    "    errors = []\n",
    "    \n",
    "    theta_history = theta\n",
    "    colors = [plt.get_cmap('gist_rainbow')(i) for i in np.linspace(0,1,dim)]\n",
    "    \n",
    "    # plt \n",
    "    if plot:\n",
    "        fig = plt.figure(figsize=(15, 10))\n",
    "        ax1 = fig.add_subplot(221)\n",
    "        ax2 = fig.add_subplot(222)\n",
    "        ax3 = fig.add_subplot(212)\n",
    "        fig.suptitle('Gradient descent')\n",
    "        \n",
    "        \n",
    "    for _ in range(iters):  \n",
    "        \n",
    "        # берём случайный набор элементов\n",
    "        batch = np.random.choice(size, batch_size, replace=False)\n",
    "        X_batch = X[batch]\n",
    "        y_batch = y[batch]\n",
    "\n",
    "        # считаем производные\n",
    "        grad = gradient(theta, X_batch, y_batch)\n",
    "        \n",
    "        assert type(grad) == np.ndarray, 'неверный тип'\n",
    "        assert len(grad.shape) == 1, 'Необходимо вернуть одномерный вектор'\n",
    "        assert grad.shape[0] == len(theta), 'длина вектора должна быть равной количеству весов'\n",
    "        \n",
    "        \n",
    "        # Обновляем веса\n",
    "        \n",
    "        theta -= grad * h\n",
    "        \n",
    "        theta_history = np.vstack((theta_history, theta))\n",
    "        \n",
    "        # error\n",
    "        loss = logloss(theta, X, y)\n",
    "        errors.append(loss)\n",
    "        \n",
    "        if plot:\n",
    "            ax1.clear()            \n",
    "            ax1.scatter(range(dim), theta, label='Gradient solution')\n",
    "            ax1.legend(loc=\"upper left\")\n",
    "            ax1.set_title('theta')\n",
    "            ax1.set_ylabel(r'$\\bar \\beta$')\n",
    "            ax1.set_xlabel('weight ID')\n",
    "            \n",
    "            \n",
    "            ax2.plot(range(_+1), errors, 'g-')\n",
    "            ax2.set_title('logloss')\n",
    "            ax2.set_xlabel('itarations')\n",
    "            \n",
    "            ax3.plot(theta_history)\n",
    "            ax3.set_title('update theta')\n",
    "            ax3.set_ylabel('value')\n",
    "            ax3.set_xlabel('itarations')\n",
    "            time.sleep(0.05)\n",
    "            fig.canvas.draw()   \n",
    "            \n",
    "    return theta"
   ]
  },
  {
   "cell_type": "code",
   "execution_count": 15,
   "metadata": {},
   "outputs": [],
   "source": [
    "X, y = make_classification(n_samples=2000)"
   ]
  },
  {
   "cell_type": "code",
   "execution_count": 16,
   "metadata": {},
   "outputs": [
    {
     "data": {
      "application/javascript": "/* Put everything inside the global mpl namespace */\n/* global mpl */\nwindow.mpl = {};\n\nmpl.get_websocket_type = function () {\n    if (typeof WebSocket !== 'undefined') {\n        return WebSocket;\n    } else if (typeof MozWebSocket !== 'undefined') {\n        return MozWebSocket;\n    } else {\n        alert(\n            'Your browser does not have WebSocket support. ' +\n                'Please try Chrome, Safari or Firefox ≥ 6. ' +\n                'Firefox 4 and 5 are also supported but you ' +\n                'have to enable WebSockets in about:config.'\n        );\n    }\n};\n\nmpl.figure = function (figure_id, websocket, ondownload, parent_element) {\n    this.id = figure_id;\n\n    this.ws = websocket;\n\n    this.supports_binary = this.ws.binaryType !== undefined;\n\n    if (!this.supports_binary) {\n        var warnings = document.getElementById('mpl-warnings');\n        if (warnings) {\n            warnings.style.display = 'block';\n            warnings.textContent =\n                'This browser does not support binary websocket messages. ' +\n                'Performance may be slow.';\n        }\n    }\n\n    this.imageObj = new Image();\n\n    this.context = undefined;\n    this.message = undefined;\n    this.canvas = undefined;\n    this.rubberband_canvas = undefined;\n    this.rubberband_context = undefined;\n    this.format_dropdown = undefined;\n\n    this.image_mode = 'full';\n\n    this.root = document.createElement('div');\n    this.root.setAttribute('style', 'display: inline-block');\n    this._root_extra_style(this.root);\n\n    parent_element.appendChild(this.root);\n\n    this._init_header(this);\n    this._init_canvas(this);\n    this._init_toolbar(this);\n\n    var fig = this;\n\n    this.waiting = false;\n\n    this.ws.onopen = function () {\n        fig.send_message('supports_binary', { value: fig.supports_binary });\n        fig.send_message('send_image_mode', {});\n        if (fig.ratio !== 1) {\n            fig.send_message('set_device_pixel_ratio', {\n                device_pixel_ratio: fig.ratio,\n            });\n        }\n        fig.send_message('refresh', {});\n    };\n\n    this.imageObj.onload = function () {\n        if (fig.image_mode === 'full') {\n            // Full images could contain transparency (where diff images\n            // almost always do), so we need to clear the canvas so that\n            // there is no ghosting.\n            fig.context.clearRect(0, 0, fig.canvas.width, fig.canvas.height);\n        }\n        fig.context.drawImage(fig.imageObj, 0, 0);\n    };\n\n    this.imageObj.onunload = function () {\n        fig.ws.close();\n    };\n\n    this.ws.onmessage = this._make_on_message_function(this);\n\n    this.ondownload = ondownload;\n};\n\nmpl.figure.prototype._init_header = function () {\n    var titlebar = document.createElement('div');\n    titlebar.classList =\n        'ui-dialog-titlebar ui-widget-header ui-corner-all ui-helper-clearfix';\n    var titletext = document.createElement('div');\n    titletext.classList = 'ui-dialog-title';\n    titletext.setAttribute(\n        'style',\n        'width: 100%; text-align: center; padding: 3px;'\n    );\n    titlebar.appendChild(titletext);\n    this.root.appendChild(titlebar);\n    this.header = titletext;\n};\n\nmpl.figure.prototype._canvas_extra_style = function (_canvas_div) {};\n\nmpl.figure.prototype._root_extra_style = function (_canvas_div) {};\n\nmpl.figure.prototype._init_canvas = function () {\n    var fig = this;\n\n    var canvas_div = (this.canvas_div = document.createElement('div'));\n    canvas_div.setAttribute('tabindex', '0');\n    canvas_div.setAttribute(\n        'style',\n        'border: 1px solid #ddd;' +\n            'box-sizing: content-box;' +\n            'clear: both;' +\n            'min-height: 1px;' +\n            'min-width: 1px;' +\n            'outline: 0;' +\n            'overflow: hidden;' +\n            'position: relative;' +\n            'resize: both;' +\n            'z-index: 2;'\n    );\n\n    function on_keyboard_event_closure(name) {\n        return function (event) {\n            return fig.key_event(event, name);\n        };\n    }\n\n    canvas_div.addEventListener(\n        'keydown',\n        on_keyboard_event_closure('key_press')\n    );\n    canvas_div.addEventListener(\n        'keyup',\n        on_keyboard_event_closure('key_release')\n    );\n\n    this._canvas_extra_style(canvas_div);\n    this.root.appendChild(canvas_div);\n\n    var canvas = (this.canvas = document.createElement('canvas'));\n    canvas.classList.add('mpl-canvas');\n    canvas.setAttribute(\n        'style',\n        'box-sizing: content-box;' +\n            'pointer-events: none;' +\n            'position: relative;' +\n            'z-index: 0;'\n    );\n\n    this.context = canvas.getContext('2d');\n\n    var backingStore =\n        this.context.backingStorePixelRatio ||\n        this.context.webkitBackingStorePixelRatio ||\n        this.context.mozBackingStorePixelRatio ||\n        this.context.msBackingStorePixelRatio ||\n        this.context.oBackingStorePixelRatio ||\n        this.context.backingStorePixelRatio ||\n        1;\n\n    this.ratio = (window.devicePixelRatio || 1) / backingStore;\n\n    var rubberband_canvas = (this.rubberband_canvas = document.createElement(\n        'canvas'\n    ));\n    rubberband_canvas.setAttribute(\n        'style',\n        'box-sizing: content-box;' +\n            'left: 0;' +\n            'pointer-events: none;' +\n            'position: absolute;' +\n            'top: 0;' +\n            'z-index: 1;'\n    );\n\n    // Apply a ponyfill if ResizeObserver is not implemented by browser.\n    if (this.ResizeObserver === undefined) {\n        if (window.ResizeObserver !== undefined) {\n            this.ResizeObserver = window.ResizeObserver;\n        } else {\n            var obs = _JSXTOOLS_RESIZE_OBSERVER({});\n            this.ResizeObserver = obs.ResizeObserver;\n        }\n    }\n\n    this.resizeObserverInstance = new this.ResizeObserver(function (entries) {\n        var nentries = entries.length;\n        for (var i = 0; i < nentries; i++) {\n            var entry = entries[i];\n            var width, height;\n            if (entry.contentBoxSize) {\n                if (entry.contentBoxSize instanceof Array) {\n                    // Chrome 84 implements new version of spec.\n                    width = entry.contentBoxSize[0].inlineSize;\n                    height = entry.contentBoxSize[0].blockSize;\n                } else {\n                    // Firefox implements old version of spec.\n                    width = entry.contentBoxSize.inlineSize;\n                    height = entry.contentBoxSize.blockSize;\n                }\n            } else {\n                // Chrome <84 implements even older version of spec.\n                width = entry.contentRect.width;\n                height = entry.contentRect.height;\n            }\n\n            // Keep the size of the canvas and rubber band canvas in sync with\n            // the canvas container.\n            if (entry.devicePixelContentBoxSize) {\n                // Chrome 84 implements new version of spec.\n                canvas.setAttribute(\n                    'width',\n                    entry.devicePixelContentBoxSize[0].inlineSize\n                );\n                canvas.setAttribute(\n                    'height',\n                    entry.devicePixelContentBoxSize[0].blockSize\n                );\n            } else {\n                canvas.setAttribute('width', width * fig.ratio);\n                canvas.setAttribute('height', height * fig.ratio);\n            }\n            /* This rescales the canvas back to display pixels, so that it\n             * appears correct on HiDPI screens. */\n            canvas.style.width = width + 'px';\n            canvas.style.height = height + 'px';\n\n            rubberband_canvas.setAttribute('width', width);\n            rubberband_canvas.setAttribute('height', height);\n\n            // And update the size in Python. We ignore the initial 0/0 size\n            // that occurs as the element is placed into the DOM, which should\n            // otherwise not happen due to the minimum size styling.\n            if (fig.ws.readyState == 1 && width != 0 && height != 0) {\n                fig.request_resize(width, height);\n            }\n        }\n    });\n    this.resizeObserverInstance.observe(canvas_div);\n\n    function on_mouse_event_closure(name) {\n        /* User Agent sniffing is bad, but WebKit is busted:\n         * https://bugs.webkit.org/show_bug.cgi?id=144526\n         * https://bugs.webkit.org/show_bug.cgi?id=181818\n         * The worst that happens here is that they get an extra browser\n         * selection when dragging, if this check fails to catch them.\n         */\n        var UA = navigator.userAgent;\n        var isWebKit = /AppleWebKit/.test(UA) && !/Chrome/.test(UA);\n        if(isWebKit) {\n            return function (event) {\n                /* This prevents the web browser from automatically changing to\n                 * the text insertion cursor when the button is pressed. We\n                 * want to control all of the cursor setting manually through\n                 * the 'cursor' event from matplotlib */\n                event.preventDefault()\n                return fig.mouse_event(event, name);\n            };\n        } else {\n            return function (event) {\n                return fig.mouse_event(event, name);\n            };\n        }\n    }\n\n    canvas_div.addEventListener(\n        'mousedown',\n        on_mouse_event_closure('button_press')\n    );\n    canvas_div.addEventListener(\n        'mouseup',\n        on_mouse_event_closure('button_release')\n    );\n    canvas_div.addEventListener(\n        'dblclick',\n        on_mouse_event_closure('dblclick')\n    );\n    // Throttle sequential mouse events to 1 every 20ms.\n    canvas_div.addEventListener(\n        'mousemove',\n        on_mouse_event_closure('motion_notify')\n    );\n\n    canvas_div.addEventListener(\n        'mouseenter',\n        on_mouse_event_closure('figure_enter')\n    );\n    canvas_div.addEventListener(\n        'mouseleave',\n        on_mouse_event_closure('figure_leave')\n    );\n\n    canvas_div.addEventListener('wheel', function (event) {\n        if (event.deltaY < 0) {\n            event.step = 1;\n        } else {\n            event.step = -1;\n        }\n        on_mouse_event_closure('scroll')(event);\n    });\n\n    canvas_div.appendChild(canvas);\n    canvas_div.appendChild(rubberband_canvas);\n\n    this.rubberband_context = rubberband_canvas.getContext('2d');\n    this.rubberband_context.strokeStyle = '#000000';\n\n    this._resize_canvas = function (width, height, forward) {\n        if (forward) {\n            canvas_div.style.width = width + 'px';\n            canvas_div.style.height = height + 'px';\n        }\n    };\n\n    // Disable right mouse context menu.\n    canvas_div.addEventListener('contextmenu', function (_e) {\n        event.preventDefault();\n        return false;\n    });\n\n    function set_focus() {\n        canvas.focus();\n        canvas_div.focus();\n    }\n\n    window.setTimeout(set_focus, 100);\n};\n\nmpl.figure.prototype._init_toolbar = function () {\n    var fig = this;\n\n    var toolbar = document.createElement('div');\n    toolbar.classList = 'mpl-toolbar';\n    this.root.appendChild(toolbar);\n\n    function on_click_closure(name) {\n        return function (_event) {\n            return fig.toolbar_button_onclick(name);\n        };\n    }\n\n    function on_mouseover_closure(tooltip) {\n        return function (event) {\n            if (!event.currentTarget.disabled) {\n                return fig.toolbar_button_onmouseover(tooltip);\n            }\n        };\n    }\n\n    fig.buttons = {};\n    var buttonGroup = document.createElement('div');\n    buttonGroup.classList = 'mpl-button-group';\n    for (var toolbar_ind in mpl.toolbar_items) {\n        var name = mpl.toolbar_items[toolbar_ind][0];\n        var tooltip = mpl.toolbar_items[toolbar_ind][1];\n        var image = mpl.toolbar_items[toolbar_ind][2];\n        var method_name = mpl.toolbar_items[toolbar_ind][3];\n\n        if (!name) {\n            /* Instead of a spacer, we start a new button group. */\n            if (buttonGroup.hasChildNodes()) {\n                toolbar.appendChild(buttonGroup);\n            }\n            buttonGroup = document.createElement('div');\n            buttonGroup.classList = 'mpl-button-group';\n            continue;\n        }\n\n        var button = (fig.buttons[name] = document.createElement('button'));\n        button.classList = 'mpl-widget';\n        button.setAttribute('role', 'button');\n        button.setAttribute('aria-disabled', 'false');\n        button.addEventListener('click', on_click_closure(method_name));\n        button.addEventListener('mouseover', on_mouseover_closure(tooltip));\n\n        var icon_img = document.createElement('img');\n        icon_img.src = '_images/' + image + '.png';\n        icon_img.srcset = '_images/' + image + '_large.png 2x';\n        icon_img.alt = tooltip;\n        button.appendChild(icon_img);\n\n        buttonGroup.appendChild(button);\n    }\n\n    if (buttonGroup.hasChildNodes()) {\n        toolbar.appendChild(buttonGroup);\n    }\n\n    var fmt_picker = document.createElement('select');\n    fmt_picker.classList = 'mpl-widget';\n    toolbar.appendChild(fmt_picker);\n    this.format_dropdown = fmt_picker;\n\n    for (var ind in mpl.extensions) {\n        var fmt = mpl.extensions[ind];\n        var option = document.createElement('option');\n        option.selected = fmt === mpl.default_extension;\n        option.innerHTML = fmt;\n        fmt_picker.appendChild(option);\n    }\n\n    var status_bar = document.createElement('span');\n    status_bar.classList = 'mpl-message';\n    toolbar.appendChild(status_bar);\n    this.message = status_bar;\n};\n\nmpl.figure.prototype.request_resize = function (x_pixels, y_pixels) {\n    // Request matplotlib to resize the figure. Matplotlib will then trigger a resize in the client,\n    // which will in turn request a refresh of the image.\n    this.send_message('resize', { width: x_pixels, height: y_pixels });\n};\n\nmpl.figure.prototype.send_message = function (type, properties) {\n    properties['type'] = type;\n    properties['figure_id'] = this.id;\n    this.ws.send(JSON.stringify(properties));\n};\n\nmpl.figure.prototype.send_draw_message = function () {\n    if (!this.waiting) {\n        this.waiting = true;\n        this.ws.send(JSON.stringify({ type: 'draw', figure_id: this.id }));\n    }\n};\n\nmpl.figure.prototype.handle_save = function (fig, _msg) {\n    var format_dropdown = fig.format_dropdown;\n    var format = format_dropdown.options[format_dropdown.selectedIndex].value;\n    fig.ondownload(fig, format);\n};\n\nmpl.figure.prototype.handle_resize = function (fig, msg) {\n    var size = msg['size'];\n    if (size[0] !== fig.canvas.width || size[1] !== fig.canvas.height) {\n        fig._resize_canvas(size[0], size[1], msg['forward']);\n        fig.send_message('refresh', {});\n    }\n};\n\nmpl.figure.prototype.handle_rubberband = function (fig, msg) {\n    var x0 = msg['x0'] / fig.ratio;\n    var y0 = (fig.canvas.height - msg['y0']) / fig.ratio;\n    var x1 = msg['x1'] / fig.ratio;\n    var y1 = (fig.canvas.height - msg['y1']) / fig.ratio;\n    x0 = Math.floor(x0) + 0.5;\n    y0 = Math.floor(y0) + 0.5;\n    x1 = Math.floor(x1) + 0.5;\n    y1 = Math.floor(y1) + 0.5;\n    var min_x = Math.min(x0, x1);\n    var min_y = Math.min(y0, y1);\n    var width = Math.abs(x1 - x0);\n    var height = Math.abs(y1 - y0);\n\n    fig.rubberband_context.clearRect(\n        0,\n        0,\n        fig.canvas.width / fig.ratio,\n        fig.canvas.height / fig.ratio\n    );\n\n    fig.rubberband_context.strokeRect(min_x, min_y, width, height);\n};\n\nmpl.figure.prototype.handle_figure_label = function (fig, msg) {\n    // Updates the figure title.\n    fig.header.textContent = msg['label'];\n};\n\nmpl.figure.prototype.handle_cursor = function (fig, msg) {\n    fig.canvas_div.style.cursor = msg['cursor'];\n};\n\nmpl.figure.prototype.handle_message = function (fig, msg) {\n    fig.message.textContent = msg['message'];\n};\n\nmpl.figure.prototype.handle_draw = function (fig, _msg) {\n    // Request the server to send over a new figure.\n    fig.send_draw_message();\n};\n\nmpl.figure.prototype.handle_image_mode = function (fig, msg) {\n    fig.image_mode = msg['mode'];\n};\n\nmpl.figure.prototype.handle_history_buttons = function (fig, msg) {\n    for (var key in msg) {\n        if (!(key in fig.buttons)) {\n            continue;\n        }\n        fig.buttons[key].disabled = !msg[key];\n        fig.buttons[key].setAttribute('aria-disabled', !msg[key]);\n    }\n};\n\nmpl.figure.prototype.handle_navigate_mode = function (fig, msg) {\n    if (msg['mode'] === 'PAN') {\n        fig.buttons['Pan'].classList.add('active');\n        fig.buttons['Zoom'].classList.remove('active');\n    } else if (msg['mode'] === 'ZOOM') {\n        fig.buttons['Pan'].classList.remove('active');\n        fig.buttons['Zoom'].classList.add('active');\n    } else {\n        fig.buttons['Pan'].classList.remove('active');\n        fig.buttons['Zoom'].classList.remove('active');\n    }\n};\n\nmpl.figure.prototype.updated_canvas_event = function () {\n    // Called whenever the canvas gets updated.\n    this.send_message('ack', {});\n};\n\n// A function to construct a web socket function for onmessage handling.\n// Called in the figure constructor.\nmpl.figure.prototype._make_on_message_function = function (fig) {\n    return function socket_on_message(evt) {\n        if (evt.data instanceof Blob) {\n            var img = evt.data;\n            if (img.type !== 'image/png') {\n                /* FIXME: We get \"Resource interpreted as Image but\n                 * transferred with MIME type text/plain:\" errors on\n                 * Chrome.  But how to set the MIME type?  It doesn't seem\n                 * to be part of the websocket stream */\n                img.type = 'image/png';\n            }\n\n            /* Free the memory for the previous frames */\n            if (fig.imageObj.src) {\n                (window.URL || window.webkitURL).revokeObjectURL(\n                    fig.imageObj.src\n                );\n            }\n\n            fig.imageObj.src = (window.URL || window.webkitURL).createObjectURL(\n                img\n            );\n            fig.updated_canvas_event();\n            fig.waiting = false;\n            return;\n        } else if (\n            typeof evt.data === 'string' &&\n            evt.data.slice(0, 21) === 'data:image/png;base64'\n        ) {\n            fig.imageObj.src = evt.data;\n            fig.updated_canvas_event();\n            fig.waiting = false;\n            return;\n        }\n\n        var msg = JSON.parse(evt.data);\n        var msg_type = msg['type'];\n\n        // Call the  \"handle_{type}\" callback, which takes\n        // the figure and JSON message as its only arguments.\n        try {\n            var callback = fig['handle_' + msg_type];\n        } catch (e) {\n            console.log(\n                \"No handler for the '\" + msg_type + \"' message type: \",\n                msg\n            );\n            return;\n        }\n\n        if (callback) {\n            try {\n                // console.log(\"Handling '\" + msg_type + \"' message: \", msg);\n                callback(fig, msg);\n            } catch (e) {\n                console.log(\n                    \"Exception inside the 'handler_\" + msg_type + \"' callback:\",\n                    e,\n                    e.stack,\n                    msg\n                );\n            }\n        }\n    };\n};\n\nfunction getModifiers(event) {\n    var mods = [];\n    if (event.ctrlKey) {\n        mods.push('ctrl');\n    }\n    if (event.altKey) {\n        mods.push('alt');\n    }\n    if (event.shiftKey) {\n        mods.push('shift');\n    }\n    if (event.metaKey) {\n        mods.push('meta');\n    }\n    return mods;\n}\n\n/*\n * return a copy of an object with only non-object keys\n * we need this to avoid circular references\n * https://stackoverflow.com/a/24161582/3208463\n */\nfunction simpleKeys(original) {\n    return Object.keys(original).reduce(function (obj, key) {\n        if (typeof original[key] !== 'object') {\n            obj[key] = original[key];\n        }\n        return obj;\n    }, {});\n}\n\nmpl.figure.prototype.mouse_event = function (event, name) {\n    if (name === 'button_press') {\n        this.canvas.focus();\n        this.canvas_div.focus();\n    }\n\n    // from https://stackoverflow.com/q/1114465\n    var boundingRect = this.canvas.getBoundingClientRect();\n    var x = (event.clientX - boundingRect.left) * this.ratio;\n    var y = (event.clientY - boundingRect.top) * this.ratio;\n\n    this.send_message(name, {\n        x: x,\n        y: y,\n        button: event.button,\n        step: event.step,\n        modifiers: getModifiers(event),\n        guiEvent: simpleKeys(event),\n    });\n\n    return false;\n};\n\nmpl.figure.prototype._key_event_extra = function (_event, _name) {\n    // Handle any extra behaviour associated with a key event\n};\n\nmpl.figure.prototype.key_event = function (event, name) {\n    // Prevent repeat events\n    if (name === 'key_press') {\n        if (event.key === this._key) {\n            return;\n        } else {\n            this._key = event.key;\n        }\n    }\n    if (name === 'key_release') {\n        this._key = null;\n    }\n\n    var value = '';\n    if (event.ctrlKey && event.key !== 'Control') {\n        value += 'ctrl+';\n    }\n    else if (event.altKey && event.key !== 'Alt') {\n        value += 'alt+';\n    }\n    else if (event.shiftKey && event.key !== 'Shift') {\n        value += 'shift+';\n    }\n\n    value += 'k' + event.key;\n\n    this._key_event_extra(event, name);\n\n    this.send_message(name, { key: value, guiEvent: simpleKeys(event) });\n    return false;\n};\n\nmpl.figure.prototype.toolbar_button_onclick = function (name) {\n    if (name === 'download') {\n        this.handle_save(this, null);\n    } else {\n        this.send_message('toolbar_button', { name: name });\n    }\n};\n\nmpl.figure.prototype.toolbar_button_onmouseover = function (tooltip) {\n    this.message.textContent = tooltip;\n};\n\n///////////////// REMAINING CONTENT GENERATED BY embed_js.py /////////////////\n// prettier-ignore\nvar _JSXTOOLS_RESIZE_OBSERVER=function(A){var t,i=new WeakMap,n=new WeakMap,a=new WeakMap,r=new WeakMap,o=new Set;function s(e){if(!(this instanceof s))throw new TypeError(\"Constructor requires 'new' operator\");i.set(this,e)}function h(){throw new TypeError(\"Function is not a constructor\")}function c(e,t,i,n){e=0 in arguments?Number(arguments[0]):0,t=1 in arguments?Number(arguments[1]):0,i=2 in arguments?Number(arguments[2]):0,n=3 in arguments?Number(arguments[3]):0,this.right=(this.x=this.left=e)+(this.width=i),this.bottom=(this.y=this.top=t)+(this.height=n),Object.freeze(this)}function d(){t=requestAnimationFrame(d);var s=new WeakMap,p=new Set;o.forEach((function(t){r.get(t).forEach((function(i){var r=t instanceof window.SVGElement,o=a.get(t),d=r?0:parseFloat(o.paddingTop),f=r?0:parseFloat(o.paddingRight),l=r?0:parseFloat(o.paddingBottom),u=r?0:parseFloat(o.paddingLeft),g=r?0:parseFloat(o.borderTopWidth),m=r?0:parseFloat(o.borderRightWidth),w=r?0:parseFloat(o.borderBottomWidth),b=u+f,F=d+l,v=(r?0:parseFloat(o.borderLeftWidth))+m,W=g+w,y=r?0:t.offsetHeight-W-t.clientHeight,E=r?0:t.offsetWidth-v-t.clientWidth,R=b+v,z=F+W,M=r?t.width:parseFloat(o.width)-R-E,O=r?t.height:parseFloat(o.height)-z-y;if(n.has(t)){var k=n.get(t);if(k[0]===M&&k[1]===O)return}n.set(t,[M,O]);var S=Object.create(h.prototype);S.target=t,S.contentRect=new c(u,d,M,O),s.has(i)||(s.set(i,[]),p.add(i)),s.get(i).push(S)}))})),p.forEach((function(e){i.get(e).call(e,s.get(e),e)}))}return s.prototype.observe=function(i){if(i instanceof window.Element){r.has(i)||(r.set(i,new Set),o.add(i),a.set(i,window.getComputedStyle(i)));var n=r.get(i);n.has(this)||n.add(this),cancelAnimationFrame(t),t=requestAnimationFrame(d)}},s.prototype.unobserve=function(i){if(i instanceof window.Element&&r.has(i)){var n=r.get(i);n.has(this)&&(n.delete(this),n.size||(r.delete(i),o.delete(i))),n.size||r.delete(i),o.size||cancelAnimationFrame(t)}},A.DOMRectReadOnly=c,A.ResizeObserver=s,A.ResizeObserverEntry=h,A}; // eslint-disable-line\nmpl.toolbar_items = [[\"Home\", \"Reset original view\", \"fa fa-home\", \"home\"], [\"Back\", \"Back to previous view\", \"fa fa-arrow-left\", \"back\"], [\"Forward\", \"Forward to next view\", \"fa fa-arrow-right\", \"forward\"], [\"\", \"\", \"\", \"\"], [\"Pan\", \"Left button pans, Right button zooms\\nx/y fixes axis, CTRL fixes aspect\", \"fa fa-arrows\", \"pan\"], [\"Zoom\", \"Zoom to rectangle\\nx/y fixes axis\", \"fa fa-square-o\", \"zoom\"], [\"\", \"\", \"\", \"\"], [\"Download\", \"Download plot\", \"fa fa-floppy-o\", \"download\"]];\n\nmpl.extensions = [\"eps\", \"jpeg\", \"pgf\", \"pdf\", \"png\", \"ps\", \"raw\", \"svg\", \"tif\", \"webp\"];\n\nmpl.default_extension = \"png\";/* global mpl */\n\nvar comm_websocket_adapter = function (comm) {\n    // Create a \"websocket\"-like object which calls the given IPython comm\n    // object with the appropriate methods. Currently this is a non binary\n    // socket, so there is still some room for performance tuning.\n    var ws = {};\n\n    ws.binaryType = comm.kernel.ws.binaryType;\n    ws.readyState = comm.kernel.ws.readyState;\n    function updateReadyState(_event) {\n        if (comm.kernel.ws) {\n            ws.readyState = comm.kernel.ws.readyState;\n        } else {\n            ws.readyState = 3; // Closed state.\n        }\n    }\n    comm.kernel.ws.addEventListener('open', updateReadyState);\n    comm.kernel.ws.addEventListener('close', updateReadyState);\n    comm.kernel.ws.addEventListener('error', updateReadyState);\n\n    ws.close = function () {\n        comm.close();\n    };\n    ws.send = function (m) {\n        //console.log('sending', m);\n        comm.send(m);\n    };\n    // Register the callback with on_msg.\n    comm.on_msg(function (msg) {\n        //console.log('receiving', msg['content']['data'], msg);\n        var data = msg['content']['data'];\n        if (data['blob'] !== undefined) {\n            data = {\n                data: new Blob(msg['buffers'], { type: data['blob'] }),\n            };\n        }\n        // Pass the mpl event to the overridden (by mpl) onmessage function.\n        ws.onmessage(data);\n    });\n    return ws;\n};\n\nmpl.mpl_figure_comm = function (comm, msg) {\n    // This is the function which gets called when the mpl process\n    // starts-up an IPython Comm through the \"matplotlib\" channel.\n\n    var id = msg.content.data.id;\n    // Get hold of the div created by the display call when the Comm\n    // socket was opened in Python.\n    var element = document.getElementById(id);\n    var ws_proxy = comm_websocket_adapter(comm);\n\n    function ondownload(figure, _format) {\n        window.open(figure.canvas.toDataURL());\n    }\n\n    var fig = new mpl.figure(id, ws_proxy, ondownload, element);\n\n    // Call onopen now - mpl needs it, as it is assuming we've passed it a real\n    // web socket which is closed, not our websocket->open comm proxy.\n    ws_proxy.onopen();\n\n    fig.parent_element = element;\n    fig.cell_info = mpl.find_output_cell(\"<div id='\" + id + \"'></div>\");\n    if (!fig.cell_info) {\n        console.error('Failed to find cell for figure', id, fig);\n        return;\n    }\n    fig.cell_info[0].output_area.element.on(\n        'cleared',\n        { fig: fig },\n        fig._remove_fig_handler\n    );\n};\n\nmpl.figure.prototype.handle_close = function (fig, msg) {\n    var width = fig.canvas.width / fig.ratio;\n    fig.cell_info[0].output_area.element.off(\n        'cleared',\n        fig._remove_fig_handler\n    );\n    fig.resizeObserverInstance.unobserve(fig.canvas_div);\n\n    // Update the output cell to use the data from the current canvas.\n    fig.push_to_output();\n    var dataURL = fig.canvas.toDataURL();\n    // Re-enable the keyboard manager in IPython - without this line, in FF,\n    // the notebook keyboard shortcuts fail.\n    IPython.keyboard_manager.enable();\n    fig.parent_element.innerHTML =\n        '<img src=\"' + dataURL + '\" width=\"' + width + '\">';\n    fig.close_ws(fig, msg);\n};\n\nmpl.figure.prototype.close_ws = function (fig, msg) {\n    fig.send_message('closing', msg);\n    // fig.ws.close()\n};\n\nmpl.figure.prototype.push_to_output = function (_remove_interactive) {\n    // Turn the data on the canvas into data in the output cell.\n    var width = this.canvas.width / this.ratio;\n    var dataURL = this.canvas.toDataURL();\n    this.cell_info[1]['text/html'] =\n        '<img src=\"' + dataURL + '\" width=\"' + width + '\">';\n};\n\nmpl.figure.prototype.updated_canvas_event = function () {\n    // Tell IPython that the notebook contents must change.\n    IPython.notebook.set_dirty(true);\n    this.send_message('ack', {});\n    var fig = this;\n    // Wait a second, then push the new image to the DOM so\n    // that it is saved nicely (might be nice to debounce this).\n    setTimeout(function () {\n        fig.push_to_output();\n    }, 1000);\n};\n\nmpl.figure.prototype._init_toolbar = function () {\n    var fig = this;\n\n    var toolbar = document.createElement('div');\n    toolbar.classList = 'btn-toolbar';\n    this.root.appendChild(toolbar);\n\n    function on_click_closure(name) {\n        return function (_event) {\n            return fig.toolbar_button_onclick(name);\n        };\n    }\n\n    function on_mouseover_closure(tooltip) {\n        return function (event) {\n            if (!event.currentTarget.disabled) {\n                return fig.toolbar_button_onmouseover(tooltip);\n            }\n        };\n    }\n\n    fig.buttons = {};\n    var buttonGroup = document.createElement('div');\n    buttonGroup.classList = 'btn-group';\n    var button;\n    for (var toolbar_ind in mpl.toolbar_items) {\n        var name = mpl.toolbar_items[toolbar_ind][0];\n        var tooltip = mpl.toolbar_items[toolbar_ind][1];\n        var image = mpl.toolbar_items[toolbar_ind][2];\n        var method_name = mpl.toolbar_items[toolbar_ind][3];\n\n        if (!name) {\n            /* Instead of a spacer, we start a new button group. */\n            if (buttonGroup.hasChildNodes()) {\n                toolbar.appendChild(buttonGroup);\n            }\n            buttonGroup = document.createElement('div');\n            buttonGroup.classList = 'btn-group';\n            continue;\n        }\n\n        button = fig.buttons[name] = document.createElement('button');\n        button.classList = 'btn btn-default';\n        button.href = '#';\n        button.title = name;\n        button.innerHTML = '<i class=\"fa ' + image + ' fa-lg\"></i>';\n        button.addEventListener('click', on_click_closure(method_name));\n        button.addEventListener('mouseover', on_mouseover_closure(tooltip));\n        buttonGroup.appendChild(button);\n    }\n\n    if (buttonGroup.hasChildNodes()) {\n        toolbar.appendChild(buttonGroup);\n    }\n\n    // Add the status bar.\n    var status_bar = document.createElement('span');\n    status_bar.classList = 'mpl-message pull-right';\n    toolbar.appendChild(status_bar);\n    this.message = status_bar;\n\n    // Add the close button to the window.\n    var buttongrp = document.createElement('div');\n    buttongrp.classList = 'btn-group inline pull-right';\n    button = document.createElement('button');\n    button.classList = 'btn btn-mini btn-primary';\n    button.href = '#';\n    button.title = 'Stop Interaction';\n    button.innerHTML = '<i class=\"fa fa-power-off icon-remove icon-large\"></i>';\n    button.addEventListener('click', function (_evt) {\n        fig.handle_close(fig, {});\n    });\n    button.addEventListener(\n        'mouseover',\n        on_mouseover_closure('Stop Interaction')\n    );\n    buttongrp.appendChild(button);\n    var titlebar = this.root.querySelector('.ui-dialog-titlebar');\n    titlebar.insertBefore(buttongrp, titlebar.firstChild);\n};\n\nmpl.figure.prototype._remove_fig_handler = function (event) {\n    var fig = event.data.fig;\n    if (event.target !== this) {\n        // Ignore bubbled events from children.\n        return;\n    }\n    fig.close_ws(fig, {});\n};\n\nmpl.figure.prototype._root_extra_style = function (el) {\n    el.style.boxSizing = 'content-box'; // override notebook setting of border-box.\n};\n\nmpl.figure.prototype._canvas_extra_style = function (el) {\n    // this is important to make the div 'focusable\n    el.setAttribute('tabindex', 0);\n    // reach out to IPython and tell the keyboard manager to turn it's self\n    // off when our div gets focus\n\n    // location in version 3\n    if (IPython.notebook.keyboard_manager) {\n        IPython.notebook.keyboard_manager.register_events(el);\n    } else {\n        // location in version 2\n        IPython.keyboard_manager.register_events(el);\n    }\n};\n\nmpl.figure.prototype._key_event_extra = function (event, _name) {\n    // Check for shift+enter\n    if (event.shiftKey && event.which === 13) {\n        this.canvas_div.blur();\n        // select the cell after this one\n        var index = IPython.notebook.find_cell_index(this.cell_info[0]);\n        IPython.notebook.select(index + 1);\n    }\n};\n\nmpl.figure.prototype.handle_save = function (fig, _msg) {\n    fig.ondownload(fig, null);\n};\n\nmpl.find_output_cell = function (html_output) {\n    // Return the cell and output element which can be found *uniquely* in the notebook.\n    // Note - this is a bit hacky, but it is done because the \"notebook_saving.Notebook\"\n    // IPython event is triggered only after the cells have been serialised, which for\n    // our purposes (turning an active figure into a static one), is too late.\n    var cells = IPython.notebook.get_cells();\n    var ncells = cells.length;\n    for (var i = 0; i < ncells; i++) {\n        var cell = cells[i];\n        if (cell.cell_type === 'code') {\n            for (var j = 0; j < cell.output_area.outputs.length; j++) {\n                var data = cell.output_area.outputs[j];\n                if (data.data) {\n                    // IPython >= 3 moved mimebundle to data attribute of output\n                    data = data.data;\n                }\n                if (data['text/html'] === html_output) {\n                    return [cell, data, j];\n                }\n            }\n        }\n    }\n};\n\n// Register the function which deals with the matplotlib target/channel.\n// The kernel may be null if the page has been refreshed.\nif (IPython.notebook.kernel !== null) {\n    IPython.notebook.kernel.comm_manager.register_target(\n        'matplotlib',\n        mpl.mpl_figure_comm\n    );\n}\n",
      "text/plain": [
       "<IPython.core.display.Javascript object>"
      ]
     },
     "metadata": {},
     "output_type": "display_data"
    },
    {
     "data": {
      "text/html": [
       "<div id='a514eefa-1d60-44f1-bd13-0aa7abe07d7f'></div>"
      ],
      "text/plain": [
       "<IPython.core.display.HTML object>"
      ]
     },
     "metadata": {},
     "output_type": "display_data"
    }
   ],
   "source": [
    "optimal_theta = fit(X, y)"
   ]
  },
  {
   "cell_type": "code",
   "execution_count": 17,
   "metadata": {},
   "outputs": [],
   "source": [
    "y_pred = binary_class_prediction(optimal_theta, X)"
   ]
  },
  {
   "attachments": {},
   "cell_type": "markdown",
   "metadata": {},
   "source": [
    "### Тестирование"
   ]
  },
  {
   "cell_type": "code",
   "execution_count": 18,
   "metadata": {},
   "outputs": [
    {
     "data": {
      "text/html": [
       "<div>\n",
       "<style scoped>\n",
       "    .dataframe tbody tr th:only-of-type {\n",
       "        vertical-align: middle;\n",
       "    }\n",
       "\n",
       "    .dataframe tbody tr th {\n",
       "        vertical-align: top;\n",
       "    }\n",
       "\n",
       "    .dataframe thead th {\n",
       "        text-align: right;\n",
       "    }\n",
       "</style>\n",
       "<table border=\"1\" class=\"dataframe\">\n",
       "  <thead>\n",
       "    <tr style=\"text-align: right;\">\n",
       "      <th></th>\n",
       "      <th>Date</th>\n",
       "      <th>Location</th>\n",
       "      <th>MinTemp</th>\n",
       "      <th>MaxTemp</th>\n",
       "      <th>Rainfall</th>\n",
       "      <th>Evaporation</th>\n",
       "      <th>Sunshine</th>\n",
       "      <th>WindGustDir</th>\n",
       "      <th>WindGustSpeed</th>\n",
       "      <th>WindDir9am</th>\n",
       "      <th>...</th>\n",
       "      <th>Humidity9am</th>\n",
       "      <th>Humidity3pm</th>\n",
       "      <th>Pressure9am</th>\n",
       "      <th>Pressure3pm</th>\n",
       "      <th>Cloud9am</th>\n",
       "      <th>Cloud3pm</th>\n",
       "      <th>Temp9am</th>\n",
       "      <th>Temp3pm</th>\n",
       "      <th>RainToday</th>\n",
       "      <th>RainTomorrow</th>\n",
       "    </tr>\n",
       "  </thead>\n",
       "  <tbody>\n",
       "    <tr>\n",
       "      <th>0</th>\n",
       "      <td>2008-12-01</td>\n",
       "      <td>Albury</td>\n",
       "      <td>13.4</td>\n",
       "      <td>22.9</td>\n",
       "      <td>0.6</td>\n",
       "      <td>NaN</td>\n",
       "      <td>NaN</td>\n",
       "      <td>W</td>\n",
       "      <td>44.0</td>\n",
       "      <td>W</td>\n",
       "      <td>...</td>\n",
       "      <td>71.0</td>\n",
       "      <td>22.0</td>\n",
       "      <td>1007.7</td>\n",
       "      <td>1007.1</td>\n",
       "      <td>8.0</td>\n",
       "      <td>NaN</td>\n",
       "      <td>16.9</td>\n",
       "      <td>21.8</td>\n",
       "      <td>No</td>\n",
       "      <td>No</td>\n",
       "    </tr>\n",
       "    <tr>\n",
       "      <th>1</th>\n",
       "      <td>2008-12-02</td>\n",
       "      <td>Albury</td>\n",
       "      <td>7.4</td>\n",
       "      <td>25.1</td>\n",
       "      <td>0.0</td>\n",
       "      <td>NaN</td>\n",
       "      <td>NaN</td>\n",
       "      <td>WNW</td>\n",
       "      <td>44.0</td>\n",
       "      <td>NNW</td>\n",
       "      <td>...</td>\n",
       "      <td>44.0</td>\n",
       "      <td>25.0</td>\n",
       "      <td>1010.6</td>\n",
       "      <td>1007.8</td>\n",
       "      <td>NaN</td>\n",
       "      <td>NaN</td>\n",
       "      <td>17.2</td>\n",
       "      <td>24.3</td>\n",
       "      <td>No</td>\n",
       "      <td>No</td>\n",
       "    </tr>\n",
       "    <tr>\n",
       "      <th>2</th>\n",
       "      <td>2008-12-03</td>\n",
       "      <td>Albury</td>\n",
       "      <td>12.9</td>\n",
       "      <td>25.7</td>\n",
       "      <td>0.0</td>\n",
       "      <td>NaN</td>\n",
       "      <td>NaN</td>\n",
       "      <td>WSW</td>\n",
       "      <td>46.0</td>\n",
       "      <td>W</td>\n",
       "      <td>...</td>\n",
       "      <td>38.0</td>\n",
       "      <td>30.0</td>\n",
       "      <td>1007.6</td>\n",
       "      <td>1008.7</td>\n",
       "      <td>NaN</td>\n",
       "      <td>2.0</td>\n",
       "      <td>21.0</td>\n",
       "      <td>23.2</td>\n",
       "      <td>No</td>\n",
       "      <td>No</td>\n",
       "    </tr>\n",
       "    <tr>\n",
       "      <th>3</th>\n",
       "      <td>2008-12-04</td>\n",
       "      <td>Albury</td>\n",
       "      <td>9.2</td>\n",
       "      <td>28.0</td>\n",
       "      <td>0.0</td>\n",
       "      <td>NaN</td>\n",
       "      <td>NaN</td>\n",
       "      <td>NE</td>\n",
       "      <td>24.0</td>\n",
       "      <td>SE</td>\n",
       "      <td>...</td>\n",
       "      <td>45.0</td>\n",
       "      <td>16.0</td>\n",
       "      <td>1017.6</td>\n",
       "      <td>1012.8</td>\n",
       "      <td>NaN</td>\n",
       "      <td>NaN</td>\n",
       "      <td>18.1</td>\n",
       "      <td>26.5</td>\n",
       "      <td>No</td>\n",
       "      <td>No</td>\n",
       "    </tr>\n",
       "    <tr>\n",
       "      <th>4</th>\n",
       "      <td>2008-12-05</td>\n",
       "      <td>Albury</td>\n",
       "      <td>17.5</td>\n",
       "      <td>32.3</td>\n",
       "      <td>1.0</td>\n",
       "      <td>NaN</td>\n",
       "      <td>NaN</td>\n",
       "      <td>W</td>\n",
       "      <td>41.0</td>\n",
       "      <td>ENE</td>\n",
       "      <td>...</td>\n",
       "      <td>82.0</td>\n",
       "      <td>33.0</td>\n",
       "      <td>1010.8</td>\n",
       "      <td>1006.0</td>\n",
       "      <td>7.0</td>\n",
       "      <td>8.0</td>\n",
       "      <td>17.8</td>\n",
       "      <td>29.7</td>\n",
       "      <td>No</td>\n",
       "      <td>No</td>\n",
       "    </tr>\n",
       "  </tbody>\n",
       "</table>\n",
       "<p>5 rows × 23 columns</p>\n",
       "</div>"
      ],
      "text/plain": [
       "         Date Location  MinTemp  MaxTemp  Rainfall  Evaporation  Sunshine  \\\n",
       "0  2008-12-01   Albury     13.4     22.9       0.6          NaN       NaN   \n",
       "1  2008-12-02   Albury      7.4     25.1       0.0          NaN       NaN   \n",
       "2  2008-12-03   Albury     12.9     25.7       0.0          NaN       NaN   \n",
       "3  2008-12-04   Albury      9.2     28.0       0.0          NaN       NaN   \n",
       "4  2008-12-05   Albury     17.5     32.3       1.0          NaN       NaN   \n",
       "\n",
       "  WindGustDir  WindGustSpeed WindDir9am  ... Humidity9am  Humidity3pm  \\\n",
       "0           W           44.0          W  ...        71.0         22.0   \n",
       "1         WNW           44.0        NNW  ...        44.0         25.0   \n",
       "2         WSW           46.0          W  ...        38.0         30.0   \n",
       "3          NE           24.0         SE  ...        45.0         16.0   \n",
       "4           W           41.0        ENE  ...        82.0         33.0   \n",
       "\n",
       "   Pressure9am  Pressure3pm  Cloud9am  Cloud3pm  Temp9am  Temp3pm  RainToday  \\\n",
       "0       1007.7       1007.1       8.0       NaN     16.9     21.8         No   \n",
       "1       1010.6       1007.8       NaN       NaN     17.2     24.3         No   \n",
       "2       1007.6       1008.7       NaN       2.0     21.0     23.2         No   \n",
       "3       1017.6       1012.8       NaN       NaN     18.1     26.5         No   \n",
       "4       1010.8       1006.0       7.0       8.0     17.8     29.7         No   \n",
       "\n",
       "   RainTomorrow  \n",
       "0            No  \n",
       "1            No  \n",
       "2            No  \n",
       "3            No  \n",
       "4            No  \n",
       "\n",
       "[5 rows x 23 columns]"
      ]
     },
     "execution_count": 18,
     "metadata": {},
     "output_type": "execute_result"
    }
   ],
   "source": [
    "X = pd.read_csv(\"weather.csv\", index_col=\"Unnamed: 0\")\n",
    "X.head()"
   ]
  },
  {
   "cell_type": "code",
   "execution_count": 21,
   "metadata": {},
   "outputs": [],
   "source": [
    "import warnings\n",
    "warnings.filterwarnings(\"ignore\")\n",
    "import pandas as pd\n",
    "import numpy as np\n",
    "import seaborn as sns\n",
    "import time\n",
    "from sklearn.datasets import make_classification\n",
    "from sklearn.metrics import roc_auc_score\n",
    "from sklearn.linear_model import LogisticRegression\n",
    "from sklearn.neighbors import KNeighborsClassifier\n",
    "from sklearn.naive_bayes import MultinomialNB, BernoulliNB, ComplementNB\n",
    "from sklearn.model_selection import train_test_split, GridSearchCV, cross_val_score\n",
    "from sklearn.preprocessing import StandardScaler, OneHotEncoder, MinMaxScaler\n",
    "from sklearn.compose import ColumnTransformer\n",
    "from sklearn.pipeline import Pipeline\n",
    "from tqdm import tqdm_notebook\n",
    "import matplotlib.pyplot as plt\n",
    "from matplotlib import gridspec\n",
    "import timeit\n",
    "%matplotlib inline"
   ]
  },
  {
   "cell_type": "code",
   "execution_count": 19,
   "metadata": {},
   "outputs": [],
   "source": [
    "y = X.RainTomorrow.replace({'No':0, 'Yes': 1})\n",
    "X = X.drop('RainTomorrow', axis=1)\n",
    "X = X.drop('Date', axis=1)\n",
    "X.RainToday = X.RainToday.replace({'No':0, 'Yes': 1})"
   ]
  },
  {
   "cell_type": "code",
   "execution_count": 26,
   "metadata": {},
   "outputs": [],
   "source": [
    "X_train, X_test, y_train, y_test = train_test_split(X, y, test_size=0.25, shuffle=False)"
   ]
  },
  {
   "cell_type": "code",
   "execution_count": 27,
   "metadata": {},
   "outputs": [
    {
     "data": {
      "text/plain": [
       "array(['Albany'], dtype=object)"
      ]
     },
     "execution_count": 27,
     "metadata": {},
     "output_type": "execute_result"
    }
   ],
   "source": [
    "X_test[\"Location\"].unique()[np.in1d(X_test[\"Location\"].unique(), X_train[\"Location\"].unique())]"
   ]
  },
  {
   "cell_type": "code",
   "execution_count": 28,
   "metadata": {},
   "outputs": [],
   "source": [
    "del X_train[\"Location\"]\n",
    "del X_test[\"Location\"]\n",
    "# т.к. только одна локация"
   ]
  },
  {
   "cell_type": "code",
   "execution_count": 29,
   "metadata": {},
   "outputs": [],
   "source": [
    "numeric_data = X_train.select_dtypes([np.number])\n",
    "categorical_data = X_train.select_dtypes(exclude=[np.number])"
   ]
  },
  {
   "cell_type": "code",
   "execution_count": 30,
   "metadata": {},
   "outputs": [
    {
     "data": {
      "image/png": "[encoded data removed]",
      "text/plain": [
       "<Figure size 1400x1000 with 2 Axes>"
      ]
     },
     "metadata": {},
     "output_type": "display_data"
    }
   ],
   "source": [
    "numeric_data_mean = numeric_data.mean()\n",
    "numeric_features = numeric_data.columns\n",
    "\n",
    "X_train = X_train.fillna(numeric_data_mean)\n",
    "X_test = X_test.fillna(numeric_data_mean)\n",
    "\n",
    "correlation = X_train[numeric_features].corrwith(y_train).sort_values(ascending=False)\n",
    "\n",
    "fig, axs = plt.subplots(figsize=(14, 10), ncols=2)\n",
    "sns.barplot(y=numeric_features, x=correlation, ax=axs[0])\n",
    "axs[0].set_title('Correlation with target')\n",
    "sns.barplot(y=numeric_features, x=X_train[numeric_features].std(), ax=axs[1])\n",
    "axs[1].set_title('Standard deviation')\n",
    "plt.show()"
   ]
  },
  {
   "attachments": {},
   "cell_type": "markdown",
   "metadata": {},
   "source": [
    "Обработаем категориальные данные"
   ]
  },
  {
   "cell_type": "code",
   "execution_count": 31,
   "metadata": {},
   "outputs": [],
   "source": [
    "categorical_features = categorical_data.columns\n",
    "X_train[categorical_features] = X_train[categorical_features].fillna(\"NotGiven\")\n",
    "X_test[categorical_features] = X_test[categorical_features].fillna(\"NotGiven\")"
   ]
  },
  {
   "cell_type": "code",
   "execution_count": 32,
   "metadata": {},
   "outputs": [
    {
     "data": {
      "text/plain": [
       "WindGustDir    16\n",
       "WindDir9am     16\n",
       "WindDir3pm     16\n",
       "dtype: int64"
      ]
     },
     "execution_count": 32,
     "metadata": {},
     "output_type": "execute_result"
    }
   ],
   "source": [
    "X[categorical_features].nunique()"
   ]
  },
  {
   "attachments": {},
   "cell_type": "markdown",
   "metadata": {},
   "source": [
    "Pipeline"
   ]
  },
  {
   "cell_type": "code",
   "execution_count": 33,
   "metadata": {},
   "outputs": [],
   "source": [
    "def makePipelineForStandardData(model):\n",
    "    column_transformer = ColumnTransformer(transformers=[\n",
    "        ('numeric', StandardScaler(), numeric_features),\n",
    "        ('categorical', OneHotEncoder(handle_unknown='ignore'), categorical_features)\n",
    "    ])\n",
    "\n",
    "    return Pipeline(steps=[\n",
    "        ('column_transformer', column_transformer),\n",
    "        ('model', model)\n",
    "    ])"
   ]
  },
  {
   "attachments": {},
   "cell_type": "markdown",
   "metadata": {},
   "source": [
    "Sklearn"
   ]
  },
  {
   "cell_type": "code",
   "execution_count": 34,
   "metadata": {},
   "outputs": [
    {
     "name": "stdout",
     "output_type": "stream",
     "text": [
      "Train ROCAUC score: 0.7119\n",
      "Test ROCAUC score: 0.7119\n",
      "Mean CV ROCAUC: 0.8547\n"
     ]
    }
   ],
   "source": [
    "logreg_pipeline = makePipelineForStandardData(LogisticRegression(solver='liblinear'))\n",
    "logreg_model = logreg_pipeline.fit(X_train, y_train)\n",
    "\n",
    "logreg_y_train_pred = logreg_model.predict(X_train)\n",
    "logreg_y_pred = logreg_model.predict(X_test)\n",
    "\n",
    "logreg_standard_train_score = roc_auc_score(y_train, logreg_y_train_pred)\n",
    "logreg_standard_test_score = roc_auc_score(y_test, logreg_y_pred)\n",
    "print(\"Train ROCAUC score: %.4f\" % logreg_standard_test_score)\n",
    "print(\"Test ROCAUC score: %.4f\" % logreg_standard_test_score)\n",
    "\n",
    "logreg_standard_score = cross_val_score(logreg_model, X_train, y_train, cv=5, scoring='roc_auc').mean()\n",
    "print(\"Mean CV ROCAUC: %.4f\" % logreg_standard_score)"
   ]
  },
  {
   "attachments": {},
   "cell_type": "markdown",
   "metadata": {},
   "source": [
    "Гиперпараметры"
   ]
  },
  {
   "cell_type": "code",
   "execution_count": 35,
   "metadata": {},
   "outputs": [],
   "source": [
    "logreg_grid_params = {\n",
    "    'model__C' : np.logspace(-3, 3, 10),\n",
    "    'model__penalty': ['l1', 'l2'],\n",
    "    'model__max_iter': [20, 50, 100]\n",
    "}"
   ]
  },
  {
   "cell_type": "code",
   "execution_count": 36,
   "metadata": {},
   "outputs": [
    {
     "name": "stdout",
     "output_type": "stream",
     "text": [
      "Best LogReg penalty params:  l1\n",
      "Best LogReg C params: 0.0215\n",
      "Best LogReg max_iter params:  50\n",
      "Best LogReg score: 0.8553\n"
     ]
    }
   ],
   "source": [
    "logreg_grid_pipeline = makePipelineForStandardData(LogisticRegression(solver='liblinear'))\n",
    "logreg_grid = GridSearchCV(logreg_grid_pipeline, logreg_grid_params, cv=5, scoring='roc_auc', n_jobs=-1)\n",
    "logreg_grid.fit(X_train, y_train)\n",
    "\n",
    "logreg_best_penalty = logreg_grid.best_params_['model__penalty']\n",
    "logreg_best_C = logreg_grid.best_params_['model__C']\n",
    "logreg_best_max_iter = logreg_grid.best_params_['model__max_iter']\n",
    "logreg_best_score = logreg_grid.best_score_\n",
    "\n",
    "print(\"Best LogReg penalty params: \", logreg_best_penalty)\n",
    "print(\"Best LogReg C params: %.4f\" % logreg_best_C)\n",
    "print(\"Best LogReg max_iter params: \", logreg_best_max_iter)\n",
    "print(\"Best LogReg score: %.4f\" % logreg_best_score)"
   ]
  },
  {
   "cell_type": "code",
   "execution_count": 37,
   "metadata": {},
   "outputs": [
    {
     "name": "stdout",
     "output_type": "stream",
     "text": [
      "Train ROCAUC score: 0.7163\n",
      "Test ROCAUC score: 0.7087\n",
      "Mean CV ROCAUC: 0.8553\n"
     ]
    }
   ],
   "source": [
    "logreg_model = logreg_grid.best_estimator_\n",
    "logreg_y_train_pred = logreg_model.predict(X_train)\n",
    "logreg_y_pred = logreg_model.predict(X_test)\n",
    "\n",
    "logreg_best_train_score = roc_auc_score(y_train, logreg_y_train_pred)\n",
    "logreg_best_test_score = roc_auc_score(y_test, logreg_y_pred)\n",
    "print(\"Train ROCAUC score: %.4f\" % logreg_best_train_score)\n",
    "print(\"Test ROCAUC score: %.4f\" % logreg_best_test_score)\n",
    "\n",
    "logreg_best_score = cross_val_score(logreg_model, X_train, y_train, cv=5, scoring='roc_auc').mean()\n",
    "print(\"Mean CV ROCAUC: %.4f\" % logreg_best_score)"
   ]
  },
  {
   "cell_type": "code",
   "execution_count": 38,
   "metadata": {},
   "outputs": [
    {
     "data": {
      "text/html": [
       "<div>\n",
       "<style scoped>\n",
       "    .dataframe tbody tr th:only-of-type {\n",
       "        vertical-align: middle;\n",
       "    }\n",
       "\n",
       "    .dataframe tbody tr th {\n",
       "        vertical-align: top;\n",
       "    }\n",
       "\n",
       "    .dataframe thead th {\n",
       "        text-align: right;\n",
       "    }\n",
       "</style>\n",
       "<table border=\"1\" class=\"dataframe\">\n",
       "  <thead>\n",
       "    <tr style=\"text-align: right;\">\n",
       "      <th></th>\n",
       "      <th>Standard</th>\n",
       "      <th>Best</th>\n",
       "    </tr>\n",
       "  </thead>\n",
       "  <tbody>\n",
       "    <tr>\n",
       "      <th>Logreg train score</th>\n",
       "      <td>0.717661</td>\n",
       "      <td>0.716297</td>\n",
       "    </tr>\n",
       "    <tr>\n",
       "      <th>Logreg test score</th>\n",
       "      <td>0.711937</td>\n",
       "      <td>0.708721</td>\n",
       "    </tr>\n",
       "    <tr>\n",
       "      <th>Logreg Mean CV score</th>\n",
       "      <td>0.854744</td>\n",
       "      <td>0.855300</td>\n",
       "    </tr>\n",
       "  </tbody>\n",
       "</table>\n",
       "</div>"
      ],
      "text/plain": [
       "                      Standard      Best\n",
       "Logreg train score    0.717661  0.716297\n",
       "Logreg test score     0.711937  0.708721\n",
       "Logreg Mean CV score  0.854744  0.855300"
      ]
     },
     "execution_count": 38,
     "metadata": {},
     "output_type": "execute_result"
    }
   ],
   "source": [
    "logreg_results = pd.DataFrame({\n",
    "    \"Standard\" : [logreg_standard_train_score, logreg_standard_test_score, logreg_standard_score],\n",
    "    \"Best\" : [logreg_best_train_score, logreg_best_test_score, logreg_best_score]\n",
    "}, index=[\"Logreg train score\", \"Logreg test score\", \"Logreg Mean CV score\"])\n",
    "logreg_results"
   ]
  },
  {
   "attachments": {},
   "cell_type": "markdown",
   "metadata": {},
   "source": [
    "Как видно, применение гиперпараметров найденных с помощью GridSearchCV улучшает результат на кросс-валидации, но на отложенной выборке результат даже немного ухудшается"
   ]
  },
  {
   "attachments": {},
   "cell_type": "markdown",
   "metadata": {},
   "source": [
    "## KNN"
   ]
  },
  {
   "cell_type": "code",
   "execution_count": 39,
   "metadata": {},
   "outputs": [],
   "source": [
    "knn_X_train = X_train.copy()\n",
    "knn_X_test = X_test.copy()"
   ]
  },
  {
   "cell_type": "code",
   "execution_count": 40,
   "metadata": {},
   "outputs": [
    {
     "data": {
      "text/html": [
       "<div>\n",
       "<style scoped>\n",
       "    .dataframe tbody tr th:only-of-type {\n",
       "        vertical-align: middle;\n",
       "    }\n",
       "\n",
       "    .dataframe tbody tr th {\n",
       "        vertical-align: top;\n",
       "    }\n",
       "\n",
       "    .dataframe thead th {\n",
       "        text-align: right;\n",
       "    }\n",
       "</style>\n",
       "<table border=\"1\" class=\"dataframe\">\n",
       "  <thead>\n",
       "    <tr style=\"text-align: right;\">\n",
       "      <th></th>\n",
       "      <th>MinTemp</th>\n",
       "      <th>MaxTemp</th>\n",
       "      <th>Rainfall</th>\n",
       "      <th>Evaporation</th>\n",
       "      <th>Sunshine</th>\n",
       "      <th>WindGustDir</th>\n",
       "      <th>WindGustSpeed</th>\n",
       "      <th>WindDir9am</th>\n",
       "      <th>WindDir3pm</th>\n",
       "      <th>WindSpeed9am</th>\n",
       "      <th>WindSpeed3pm</th>\n",
       "      <th>Humidity9am</th>\n",
       "      <th>Humidity3pm</th>\n",
       "      <th>Pressure9am</th>\n",
       "      <th>Pressure3pm</th>\n",
       "      <th>Cloud9am</th>\n",
       "      <th>Cloud3pm</th>\n",
       "      <th>Temp9am</th>\n",
       "      <th>Temp3pm</th>\n",
       "      <th>RainToday</th>\n",
       "    </tr>\n",
       "  </thead>\n",
       "  <tbody>\n",
       "    <tr>\n",
       "      <th>0</th>\n",
       "      <td>13.4</td>\n",
       "      <td>22.9</td>\n",
       "      <td>0.6</td>\n",
       "      <td>5.339228</td>\n",
       "      <td>7.382788</td>\n",
       "      <td>W</td>\n",
       "      <td>44.0</td>\n",
       "      <td>W</td>\n",
       "      <td>WNW</td>\n",
       "      <td>20.0</td>\n",
       "      <td>24.0</td>\n",
       "      <td>71.0</td>\n",
       "      <td>22.0</td>\n",
       "      <td>1007.7</td>\n",
       "      <td>1007.1</td>\n",
       "      <td>8.000000</td>\n",
       "      <td>4.65577</td>\n",
       "      <td>16.9</td>\n",
       "      <td>21.8</td>\n",
       "      <td>0.0</td>\n",
       "    </tr>\n",
       "    <tr>\n",
       "      <th>1</th>\n",
       "      <td>7.4</td>\n",
       "      <td>25.1</td>\n",
       "      <td>0.0</td>\n",
       "      <td>5.339228</td>\n",
       "      <td>7.382788</td>\n",
       "      <td>WNW</td>\n",
       "      <td>44.0</td>\n",
       "      <td>NNW</td>\n",
       "      <td>WSW</td>\n",
       "      <td>4.0</td>\n",
       "      <td>22.0</td>\n",
       "      <td>44.0</td>\n",
       "      <td>25.0</td>\n",
       "      <td>1010.6</td>\n",
       "      <td>1007.8</td>\n",
       "      <td>4.597829</td>\n",
       "      <td>4.65577</td>\n",
       "      <td>17.2</td>\n",
       "      <td>24.3</td>\n",
       "      <td>0.0</td>\n",
       "    </tr>\n",
       "    <tr>\n",
       "      <th>2</th>\n",
       "      <td>12.9</td>\n",
       "      <td>25.7</td>\n",
       "      <td>0.0</td>\n",
       "      <td>5.339228</td>\n",
       "      <td>7.382788</td>\n",
       "      <td>WSW</td>\n",
       "      <td>46.0</td>\n",
       "      <td>W</td>\n",
       "      <td>WSW</td>\n",
       "      <td>19.0</td>\n",
       "      <td>26.0</td>\n",
       "      <td>38.0</td>\n",
       "      <td>30.0</td>\n",
       "      <td>1007.6</td>\n",
       "      <td>1008.7</td>\n",
       "      <td>4.597829</td>\n",
       "      <td>2.00000</td>\n",
       "      <td>21.0</td>\n",
       "      <td>23.2</td>\n",
       "      <td>0.0</td>\n",
       "    </tr>\n",
       "    <tr>\n",
       "      <th>3</th>\n",
       "      <td>9.2</td>\n",
       "      <td>28.0</td>\n",
       "      <td>0.0</td>\n",
       "      <td>5.339228</td>\n",
       "      <td>7.382788</td>\n",
       "      <td>NE</td>\n",
       "      <td>24.0</td>\n",
       "      <td>SE</td>\n",
       "      <td>E</td>\n",
       "      <td>11.0</td>\n",
       "      <td>9.0</td>\n",
       "      <td>45.0</td>\n",
       "      <td>16.0</td>\n",
       "      <td>1017.6</td>\n",
       "      <td>1012.8</td>\n",
       "      <td>4.597829</td>\n",
       "      <td>4.65577</td>\n",
       "      <td>18.1</td>\n",
       "      <td>26.5</td>\n",
       "      <td>0.0</td>\n",
       "    </tr>\n",
       "    <tr>\n",
       "      <th>4</th>\n",
       "      <td>17.5</td>\n",
       "      <td>32.3</td>\n",
       "      <td>1.0</td>\n",
       "      <td>5.339228</td>\n",
       "      <td>7.382788</td>\n",
       "      <td>W</td>\n",
       "      <td>41.0</td>\n",
       "      <td>ENE</td>\n",
       "      <td>NW</td>\n",
       "      <td>7.0</td>\n",
       "      <td>20.0</td>\n",
       "      <td>82.0</td>\n",
       "      <td>33.0</td>\n",
       "      <td>1010.8</td>\n",
       "      <td>1006.0</td>\n",
       "      <td>7.000000</td>\n",
       "      <td>8.00000</td>\n",
       "      <td>17.8</td>\n",
       "      <td>29.7</td>\n",
       "      <td>0.0</td>\n",
       "    </tr>\n",
       "  </tbody>\n",
       "</table>\n",
       "</div>"
      ],
      "text/plain": [
       "   MinTemp  MaxTemp  Rainfall  Evaporation  Sunshine WindGustDir  \\\n",
       "0     13.4     22.9       0.6     5.339228  7.382788           W   \n",
       "1      7.4     25.1       0.0     5.339228  7.382788         WNW   \n",
       "2     12.9     25.7       0.0     5.339228  7.382788         WSW   \n",
       "3      9.2     28.0       0.0     5.339228  7.382788          NE   \n",
       "4     17.5     32.3       1.0     5.339228  7.382788           W   \n",
       "\n",
       "   WindGustSpeed WindDir9am WindDir3pm  WindSpeed9am  WindSpeed3pm  \\\n",
       "0           44.0          W        WNW          20.0          24.0   \n",
       "1           44.0        NNW        WSW           4.0          22.0   \n",
       "2           46.0          W        WSW          19.0          26.0   \n",
       "3           24.0         SE          E          11.0           9.0   \n",
       "4           41.0        ENE         NW           7.0          20.0   \n",
       "\n",
       "   Humidity9am  Humidity3pm  Pressure9am  Pressure3pm  Cloud9am  Cloud3pm  \\\n",
       "0         71.0         22.0       1007.7       1007.1  8.000000   4.65577   \n",
       "1         44.0         25.0       1010.6       1007.8  4.597829   4.65577   \n",
       "2         38.0         30.0       1007.6       1008.7  4.597829   2.00000   \n",
       "3         45.0         16.0       1017.6       1012.8  4.597829   4.65577   \n",
       "4         82.0         33.0       1010.8       1006.0  7.000000   8.00000   \n",
       "\n",
       "   Temp9am  Temp3pm  RainToday  \n",
       "0     16.9     21.8        0.0  \n",
       "1     17.2     24.3        0.0  \n",
       "2     21.0     23.2        0.0  \n",
       "3     18.1     26.5        0.0  \n",
       "4     17.8     29.7        0.0  "
      ]
     },
     "execution_count": 40,
     "metadata": {},
     "output_type": "execute_result"
    }
   ],
   "source": [
    "knn_X_train.head()"
   ]
  },
  {
   "attachments": {},
   "cell_type": "markdown",
   "metadata": {},
   "source": [
    "Усредняем температуру"
   ]
  },
  {
   "cell_type": "code",
   "execution_count": 41,
   "metadata": {},
   "outputs": [],
   "source": [
    "knn_X_train[\"Temp\"] = (knn_X_train[\"Temp9am\"] + knn_X_train[\"Temp3pm\"]) / 2\n",
    "knn_X_test[\"Temp\"] = (knn_X_test[\"Temp9am\"] + knn_X_test[\"Temp3pm\"]) / 2\n",
    "del knn_X_train[\"Temp9am\"]\n",
    "del knn_X_train[\"Temp3pm\"]\n",
    "del knn_X_test[\"Temp9am\"]\n",
    "del knn_X_test[\"Temp3pm\"]"
   ]
  },
  {
   "attachments": {},
   "cell_type": "markdown",
   "metadata": {},
   "source": [
    "Влажность"
   ]
  },
  {
   "cell_type": "code",
   "execution_count": 42,
   "metadata": {},
   "outputs": [],
   "source": [
    "knn_X_train[\"Humidity\"] = (knn_X_train[\"Humidity9am\"] + knn_X_train[\"Humidity3pm\"]) / 2\n",
    "knn_X_test[\"Humidity\"] = (knn_X_test[\"Humidity9am\"] + knn_X_test[\"Humidity3pm\"]) / 2\n",
    "del knn_X_train[\"Humidity9am\"]\n",
    "del knn_X_train[\"Humidity3pm\"]\n",
    "del knn_X_test[\"Humidity9am\"]\n",
    "del knn_X_test[\"Humidity3pm\"]"
   ]
  },
  {
   "attachments": {},
   "cell_type": "markdown",
   "metadata": {},
   "source": [
    "Давление"
   ]
  },
  {
   "cell_type": "code",
   "execution_count": 43,
   "metadata": {},
   "outputs": [],
   "source": [
    "knn_X_train[\"Pressure\"] = (knn_X_train[\"Pressure9am\"] + knn_X_train[\"Pressure3pm\"]) / 2\n",
    "knn_X_test[\"Pressure\"] = (knn_X_test[\"Pressure9am\"] + knn_X_test[\"Pressure3pm\"]) / 2\n",
    "del knn_X_train[\"Pressure9am\"]\n",
    "del knn_X_train[\"Pressure3pm\"]\n",
    "del knn_X_test[\"Pressure9am\"]\n",
    "del knn_X_test[\"Pressure3pm\"]"
   ]
  },
  {
   "attachments": {},
   "cell_type": "markdown",
   "metadata": {},
   "source": [
    "Скорость ветра"
   ]
  },
  {
   "cell_type": "code",
   "execution_count": 44,
   "metadata": {},
   "outputs": [],
   "source": [
    "knn_X_train[\"WindSpeed\"] = (knn_X_train[\"WindSpeed9am\"] + knn_X_train[\"WindSpeed3pm\"]) / 2\n",
    "knn_X_test[\"WindSpeed\"] = (knn_X_test[\"WindSpeed9am\"] + knn_X_test[\"WindSpeed3pm\"]) / 2\n",
    "del knn_X_train[\"WindSpeed9am\"]\n",
    "del knn_X_train[\"WindSpeed3pm\"]\n",
    "del knn_X_test[\"WindSpeed9am\"]\n",
    "del knn_X_test[\"WindSpeed3pm\"]"
   ]
  },
  {
   "attachments": {},
   "cell_type": "markdown",
   "metadata": {},
   "source": [
    "Облачность"
   ]
  },
  {
   "cell_type": "code",
   "execution_count": 45,
   "metadata": {},
   "outputs": [],
   "source": [
    "knn_X_train[\"Cloud\"] = (knn_X_train[\"Cloud9am\"] + knn_X_train[\"Cloud3pm\"]) / 2\n",
    "knn_X_test[\"Cloud\"] = (knn_X_test[\"Cloud9am\"] + knn_X_test[\"Cloud3pm\"]) / 2\n",
    "del knn_X_train[\"Cloud9am\"]\n",
    "del knn_X_train[\"Cloud3pm\"]\n",
    "del knn_X_test[\"Cloud9am\"]\n",
    "del knn_X_test[\"Cloud3pm\"]"
   ]
  },
  {
   "attachments": {},
   "cell_type": "markdown",
   "metadata": {},
   "source": [
    "Удалим некоторые столбцы"
   ]
  },
  {
   "cell_type": "code",
   "execution_count": 46,
   "metadata": {},
   "outputs": [],
   "source": [
    "del knn_X_train[\"WindGustDir\"]\n",
    "del knn_X_train[\"WindDir9am\"]\n",
    "del knn_X_train[\"WindDir3pm\"]\n",
    "del knn_X_test[\"WindGustDir\"]\n",
    "del knn_X_test[\"WindDir9am\"]\n",
    "del knn_X_test[\"WindDir3pm\"]"
   ]
  },
  {
   "cell_type": "code",
   "execution_count": 47,
   "metadata": {},
   "outputs": [
    {
     "data": {
      "text/html": [
       "<div>\n",
       "<style scoped>\n",
       "    .dataframe tbody tr th:only-of-type {\n",
       "        vertical-align: middle;\n",
       "    }\n",
       "\n",
       "    .dataframe tbody tr th {\n",
       "        vertical-align: top;\n",
       "    }\n",
       "\n",
       "    .dataframe thead th {\n",
       "        text-align: right;\n",
       "    }\n",
       "</style>\n",
       "<table border=\"1\" class=\"dataframe\">\n",
       "  <thead>\n",
       "    <tr style=\"text-align: right;\">\n",
       "      <th></th>\n",
       "      <th>MinTemp</th>\n",
       "      <th>MaxTemp</th>\n",
       "      <th>Rainfall</th>\n",
       "      <th>Evaporation</th>\n",
       "      <th>Sunshine</th>\n",
       "      <th>WindGustSpeed</th>\n",
       "      <th>RainToday</th>\n",
       "      <th>Temp</th>\n",
       "      <th>Humidity</th>\n",
       "      <th>Pressure</th>\n",
       "      <th>WindSpeed</th>\n",
       "      <th>Cloud</th>\n",
       "    </tr>\n",
       "  </thead>\n",
       "  <tbody>\n",
       "    <tr>\n",
       "      <th>0</th>\n",
       "      <td>13.4</td>\n",
       "      <td>22.9</td>\n",
       "      <td>0.6</td>\n",
       "      <td>5.339228</td>\n",
       "      <td>7.382788</td>\n",
       "      <td>44.0</td>\n",
       "      <td>0.0</td>\n",
       "      <td>19.35</td>\n",
       "      <td>46.5</td>\n",
       "      <td>1007.40</td>\n",
       "      <td>22.0</td>\n",
       "      <td>6.327885</td>\n",
       "    </tr>\n",
       "    <tr>\n",
       "      <th>1</th>\n",
       "      <td>7.4</td>\n",
       "      <td>25.1</td>\n",
       "      <td>0.0</td>\n",
       "      <td>5.339228</td>\n",
       "      <td>7.382788</td>\n",
       "      <td>44.0</td>\n",
       "      <td>0.0</td>\n",
       "      <td>20.75</td>\n",
       "      <td>34.5</td>\n",
       "      <td>1009.20</td>\n",
       "      <td>13.0</td>\n",
       "      <td>4.626799</td>\n",
       "    </tr>\n",
       "    <tr>\n",
       "      <th>2</th>\n",
       "      <td>12.9</td>\n",
       "      <td>25.7</td>\n",
       "      <td>0.0</td>\n",
       "      <td>5.339228</td>\n",
       "      <td>7.382788</td>\n",
       "      <td>46.0</td>\n",
       "      <td>0.0</td>\n",
       "      <td>22.10</td>\n",
       "      <td>34.0</td>\n",
       "      <td>1008.15</td>\n",
       "      <td>22.5</td>\n",
       "      <td>3.298915</td>\n",
       "    </tr>\n",
       "    <tr>\n",
       "      <th>3</th>\n",
       "      <td>9.2</td>\n",
       "      <td>28.0</td>\n",
       "      <td>0.0</td>\n",
       "      <td>5.339228</td>\n",
       "      <td>7.382788</td>\n",
       "      <td>24.0</td>\n",
       "      <td>0.0</td>\n",
       "      <td>22.30</td>\n",
       "      <td>30.5</td>\n",
       "      <td>1015.20</td>\n",
       "      <td>10.0</td>\n",
       "      <td>4.626799</td>\n",
       "    </tr>\n",
       "    <tr>\n",
       "      <th>4</th>\n",
       "      <td>17.5</td>\n",
       "      <td>32.3</td>\n",
       "      <td>1.0</td>\n",
       "      <td>5.339228</td>\n",
       "      <td>7.382788</td>\n",
       "      <td>41.0</td>\n",
       "      <td>0.0</td>\n",
       "      <td>23.75</td>\n",
       "      <td>57.5</td>\n",
       "      <td>1008.40</td>\n",
       "      <td>13.5</td>\n",
       "      <td>7.500000</td>\n",
       "    </tr>\n",
       "  </tbody>\n",
       "</table>\n",
       "</div>"
      ],
      "text/plain": [
       "   MinTemp  MaxTemp  Rainfall  Evaporation  Sunshine  WindGustSpeed  \\\n",
       "0     13.4     22.9       0.6     5.339228  7.382788           44.0   \n",
       "1      7.4     25.1       0.0     5.339228  7.382788           44.0   \n",
       "2     12.9     25.7       0.0     5.339228  7.382788           46.0   \n",
       "3      9.2     28.0       0.0     5.339228  7.382788           24.0   \n",
       "4     17.5     32.3       1.0     5.339228  7.382788           41.0   \n",
       "\n",
       "   RainToday   Temp  Humidity  Pressure  WindSpeed     Cloud  \n",
       "0        0.0  19.35      46.5   1007.40       22.0  6.327885  \n",
       "1        0.0  20.75      34.5   1009.20       13.0  4.626799  \n",
       "2        0.0  22.10      34.0   1008.15       22.5  3.298915  \n",
       "3        0.0  22.30      30.5   1015.20       10.0  4.626799  \n",
       "4        0.0  23.75      57.5   1008.40       13.5  7.500000  "
      ]
     },
     "execution_count": 47,
     "metadata": {},
     "output_type": "execute_result"
    }
   ],
   "source": [
    "knn_X_train.head()"
   ]
  },
  {
   "cell_type": "code",
   "execution_count": 48,
   "metadata": {},
   "outputs": [],
   "source": [
    "knn_numeric_features = knn_X_train.select_dtypes([np.number]).columns\n",
    "\n",
    "def makePipelineForKNN(model):\n",
    "    column_transformer = ColumnTransformer(transformers=[\n",
    "        ('numeric', StandardScaler(), knn_numeric_features),\n",
    "    ])\n",
    "\n",
    "    return Pipeline(steps=[\n",
    "        ('column_transformer', column_transformer),\n",
    "        ('model', model)\n",
    "    ])"
   ]
  },
  {
   "attachments": {},
   "cell_type": "markdown",
   "metadata": {},
   "source": [
    "Модель"
   ]
  },
  {
   "cell_type": "code",
   "execution_count": 49,
   "metadata": {},
   "outputs": [
    {
     "name": "stdout",
     "output_type": "stream",
     "text": [
      "Train cleared ROCAUC score: 0.7712\n",
      "Test cleared ROCAUC score: 0.6798\n",
      "Mean CV ROCAUC: 0.7821\n"
     ]
    }
   ],
   "source": [
    "knn_pipeline = makePipelineForKNN(KNeighborsClassifier(algorithm='kd_tree', n_jobs=-1))\n",
    "knn_model = knn_pipeline.fit(knn_X_train, y_train)\n",
    "\n",
    "knn_y_train_pred = knn_model.predict(knn_X_train)\n",
    "knn_y_pred = knn_model.predict(knn_X_test)\n",
    "\n",
    "knn_standard_train_score = roc_auc_score(y_train, knn_y_train_pred)\n",
    "knn_standard_test_score = roc_auc_score(y_test, knn_y_pred)\n",
    "\n",
    "print(\"Train cleared ROCAUC score: %.4f\" % knn_standard_train_score)\n",
    "print(\"Test cleared ROCAUC score: %.4f\" % knn_standard_test_score)\n",
    "\n",
    "knn_standard_score = cross_val_score(knn_model, knn_X_train, y_train, cv=5, scoring='roc_auc').mean()\n",
    "print(\"Mean CV ROCAUC: %.4f\" % knn_standard_score)"
   ]
  },
  {
   "attachments": {},
   "cell_type": "markdown",
   "metadata": {},
   "source": [
    "ПОдбор k"
   ]
  },
  {
   "cell_type": "code",
   "execution_count": 50,
   "metadata": {},
   "outputs": [],
   "source": [
    "def linear_weights(distance):\n",
    "    k = distance.shape[1]\n",
    "    return ((k - np.arange(0, k))/k) * np.ones_like(distance)"
   ]
  },
  {
   "cell_type": "code",
   "execution_count": 51,
   "metadata": {},
   "outputs": [],
   "source": [
    "knn_grid_params = {\n",
    "    'model__n_neighbors': [i for i in range(1, 15, 2)],\n",
    "    'model__p': [1, 2, 3],\n",
    "}"
   ]
  },
  {
   "cell_type": "code",
   "execution_count": 52,
   "metadata": {},
   "outputs": [
    {
     "name": "stdout",
     "output_type": "stream",
     "text": [
      "Best KNN n_neighbors param:  13\n",
      "Best KNN p param:  3\n",
      "Best KNN score: 0.8157\n"
     ]
    }
   ],
   "source": [
    "knn_grid_pipeline = makePipelineForKNN(KNeighborsClassifier(algorithm='kd_tree',\n",
    "                                                                        weights=linear_weights,\n",
    "                                                                        n_jobs=-1))\n",
    "knn_grid = GridSearchCV(knn_grid_pipeline, knn_grid_params, cv=5, scoring='roc_auc', n_jobs=-1)\n",
    "knn_grid.fit(knn_X_train, y_train)\n",
    "\n",
    "knn_best_n_neighbors = knn_grid.best_params_['model__n_neighbors']\n",
    "knn_best_p = knn_grid.best_params_['model__p']\n",
    "knn_best_score = knn_grid.best_score_\n",
    "\n",
    "print(\"Best KNN n_neighbors param: \", knn_best_n_neighbors)\n",
    "print(\"Best KNN p param: \", knn_best_p)\n",
    "print(\"Best KNN score: %.4f\" % knn_best_score)"
   ]
  },
  {
   "cell_type": "code",
   "execution_count": 53,
   "metadata": {},
   "outputs": [
    {
     "name": "stdout",
     "output_type": "stream",
     "text": [
      "Train ROCAUC score: 0.7566\n",
      "Test ROCAUC score: 0.6808\n",
      "Mean CV ROCAUC: 0.8157\n"
     ]
    }
   ],
   "source": [
    "knn_pipeline = makePipelineForKNN(KNeighborsClassifier(algorithm='kd_tree',\n",
    "                                                       n_neighbors=knn_best_n_neighbors,\n",
    "                                                       p=knn_best_p,\n",
    "                                                       weights=linear_weights,\n",
    "                                                       n_jobs=-1))\n",
    "knn_model = knn_pipeline.fit(knn_X_train, y_train)\n",
    "knn_y_train_pred = knn_model.predict(knn_X_train)\n",
    "knn_y_pred = knn_model.predict(knn_X_test)\n",
    "\n",
    "knn_best_train_score = roc_auc_score(y_train, knn_y_train_pred)\n",
    "knn_best_test_score = roc_auc_score(y_test, knn_y_pred)\n",
    "print(\"Train ROCAUC score: %.4f\" % knn_best_train_score)\n",
    "print(\"Test ROCAUC score: %.4f\" % knn_best_test_score)\n",
    "\n",
    "knn_best_score = cross_val_score(knn_model, knn_X_train, y_train, cv=5, scoring='roc_auc').mean()\n",
    "print(\"Mean CV ROCAUC: %.4f\" % knn_best_score)"
   ]
  },
  {
   "cell_type": "code",
   "execution_count": 54,
   "metadata": {},
   "outputs": [
    {
     "data": {
      "text/html": [
       "<div>\n",
       "<style scoped>\n",
       "    .dataframe tbody tr th:only-of-type {\n",
       "        vertical-align: middle;\n",
       "    }\n",
       "\n",
       "    .dataframe tbody tr th {\n",
       "        vertical-align: top;\n",
       "    }\n",
       "\n",
       "    .dataframe thead th {\n",
       "        text-align: right;\n",
       "    }\n",
       "</style>\n",
       "<table border=\"1\" class=\"dataframe\">\n",
       "  <thead>\n",
       "    <tr style=\"text-align: right;\">\n",
       "      <th></th>\n",
       "      <th>Standard</th>\n",
       "      <th>Best</th>\n",
       "    </tr>\n",
       "  </thead>\n",
       "  <tbody>\n",
       "    <tr>\n",
       "      <th>KNN train score</th>\n",
       "      <td>0.771219</td>\n",
       "      <td>0.756609</td>\n",
       "    </tr>\n",
       "    <tr>\n",
       "      <th>KNN test score</th>\n",
       "      <td>0.679755</td>\n",
       "      <td>0.680791</td>\n",
       "    </tr>\n",
       "    <tr>\n",
       "      <th>KNN Mean CV score</th>\n",
       "      <td>0.782061</td>\n",
       "      <td>0.815674</td>\n",
       "    </tr>\n",
       "  </tbody>\n",
       "</table>\n",
       "</div>"
      ],
      "text/plain": [
       "                   Standard      Best\n",
       "KNN train score    0.771219  0.756609\n",
       "KNN test score     0.679755  0.680791\n",
       "KNN Mean CV score  0.782061  0.815674"
      ]
     },
     "execution_count": 54,
     "metadata": {},
     "output_type": "execute_result"
    }
   ],
   "source": [
    "knn_results = pd.DataFrame({\n",
    "    \"Standard\" : [knn_standard_train_score, knn_standard_test_score, knn_standard_score],\n",
    "    \"Best\" : [knn_best_train_score, knn_best_test_score, knn_best_score]\n",
    "}, index=[\"KNN train score\", \"KNN test score\", \"KNN Mean CV score\"])\n",
    "knn_results"
   ]
  },
  {
   "attachments": {},
   "cell_type": "markdown",
   "metadata": {},
   "source": [
    "Видно, что подбор гиперпараметров дал прирост в качестве, но логистическая регрессия все равно показывает лучший результат"
   ]
  },
  {
   "attachments": {},
   "cell_type": "markdown",
   "metadata": {},
   "source": [
    "Наивный Байес"
   ]
  },
  {
   "cell_type": "code",
   "execution_count": 55,
   "metadata": {},
   "outputs": [],
   "source": [
    "def makePipelineForNB(model):\n",
    "    column_transformer = ColumnTransformer(transformers=[\n",
    "        ('numeric', MinMaxScaler(), numeric_features),\n",
    "        ('categorical', OneHotEncoder(handle_unknown='ignore'), categorical_features)\n",
    "    ])\n",
    "\n",
    "    return Pipeline(steps=[\n",
    "        ('column_transformer', column_transformer),\n",
    "        ('model', model)\n",
    "    ])"
   ]
  },
  {
   "cell_type": "code",
   "execution_count": 56,
   "metadata": {},
   "outputs": [
    {
     "name": "stdout",
     "output_type": "stream",
     "text": [
      "Train raw ROCAUC score: 0.5451\n",
      "Test raw ROCAUC score: 0.5628\n",
      "Mean CV ROCAUC: 0.7295\n"
     ]
    }
   ],
   "source": [
    "multinomial_nb_pipeline = makePipelineForNB(MultinomialNB())\n",
    "multinomial_nb_model = multinomial_nb_pipeline.fit(X_train, y_train)\n",
    "\n",
    "multinomial_nb_y_train_pred = multinomial_nb_model.predict(X_train)\n",
    "multinomial_nb_y_pred = multinomial_nb_model.predict(X_test)\n",
    "\n",
    "multinomial_nb_train_score = roc_auc_score(y_train, multinomial_nb_y_train_pred)\n",
    "multinomial_nb_test_score = roc_auc_score(y_test, multinomial_nb_y_pred)\n",
    "\n",
    "print(\"Train raw ROCAUC score: %.4f\" % multinomial_nb_train_score)\n",
    "print(\"Test raw ROCAUC score: %.4f\" % multinomial_nb_test_score)\n",
    "\n",
    "multinomial_nb_score = cross_val_score(multinomial_nb_model, X_train, y_train, cv=5,\n",
    "                                             scoring='roc_auc').mean()\n",
    "print(\"Mean CV ROCAUC: %.4f\" % multinomial_nb_score)"
   ]
  },
  {
   "cell_type": "code",
   "execution_count": 57,
   "metadata": {},
   "outputs": [
    {
     "name": "stdout",
     "output_type": "stream",
     "text": [
      "Train ROCAUC score: 0.6540\n",
      "Test ROCAUC score: 0.6785\n",
      "Mean CV ROCAUC: 0.7153\n"
     ]
    }
   ],
   "source": [
    "bernoulli_nb_pipeline = makePipelineForNB(BernoulliNB())\n",
    "bernoulli_nb_model = bernoulli_nb_pipeline.fit(X_train, y_train)\n",
    "\n",
    "bernoulli_nb_y_train_pred = bernoulli_nb_model.predict(X_train)\n",
    "bernoulli_nb_y_pred = bernoulli_nb_model.predict(X_test)\n",
    "\n",
    "bernoulli_nb_train_score = roc_auc_score(y_train, bernoulli_nb_y_train_pred)\n",
    "bernoulli_nb_test_score = roc_auc_score(y_test, bernoulli_nb_y_pred)\n",
    "\n",
    "print(\"Train ROCAUC score: %.4f\" % bernoulli_nb_train_score)\n",
    "print(\"Test ROCAUC score: %.4f\" % bernoulli_nb_test_score)\n",
    "\n",
    "bernoulli_nb_score = cross_val_score(bernoulli_nb_model, X_train, y_train, cv=5,\n",
    "                                             scoring='roc_auc').mean()\n",
    "print(\"Mean CV ROCAUC: %.4f\" % bernoulli_nb_score)"
   ]
  },
  {
   "cell_type": "code",
   "execution_count": 58,
   "metadata": {},
   "outputs": [
    {
     "name": "stdout",
     "output_type": "stream",
     "text": [
      "Train ROCAUC score: 0.6926\n",
      "Test ROCAUC score: 0.7335\n",
      "Mean CV ROCAUC: 0.7295\n"
     ]
    }
   ],
   "source": [
    "complement_nb_pipeline = makePipelineForNB(ComplementNB())\n",
    "complement_nb_model = complement_nb_pipeline.fit(X_train, y_train)\n",
    "\n",
    "complement_nb_y_train_pred = complement_nb_model.predict(X_train)\n",
    "complement_nb_y_pred = complement_nb_model.predict(X_test)\n",
    "\n",
    "complement_nb_train_score = roc_auc_score(y_train, complement_nb_y_train_pred)\n",
    "complement_nb_test_score = roc_auc_score(y_test, complement_nb_y_pred)\n",
    "\n",
    "print(\"Train ROCAUC score: %.4f\" % complement_nb_train_score)\n",
    "print(\"Test ROCAUC score: %.4f\" % complement_nb_test_score)\n",
    "\n",
    "complement_nb_score = cross_val_score(complement_nb_model, X_train, y_train, cv=5,\n",
    "                                             scoring='roc_auc').mean()\n",
    "print(\"Mean CV ROCAUC: %.4f\" % complement_nb_score)"
   ]
  },
  {
   "attachments": {},
   "cell_type": "markdown",
   "metadata": {},
   "source": [
    "Как мы видим лучший результат дает ComplementNV, будем использовать его\n",
    "\n",
    "Подбор гиперпараметров"
   ]
  },
  {
   "cell_type": "code",
   "execution_count": 59,
   "metadata": {},
   "outputs": [],
   "source": [
    "nb_grid_params = {\n",
    "    'model__alpha' : np.logspace(0, 3, 100),\n",
    "}"
   ]
  },
  {
   "cell_type": "code",
   "execution_count": 60,
   "metadata": {},
   "outputs": [
    {
     "name": "stdout",
     "output_type": "stream",
     "text": [
      "Best Naive Bayes alpha param:  464.1588833612782\n",
      "Best Naive Bayes score: 0.7334\n"
     ]
    }
   ],
   "source": [
    "nb_grid_pipeline = makePipelineForNB(ComplementNB())\n",
    "nb_grid = GridSearchCV(nb_grid_pipeline, nb_grid_params, cv=5, scoring='roc_auc', n_jobs=-1)\n",
    "nb_grid.fit(X_train, y_train)\n",
    "\n",
    "nb_best_alpha = nb_grid.best_params_['model__alpha']\n",
    "nb_best_score = nb_grid.best_score_\n",
    "\n",
    "print(\"Best Naive Bayes alpha param: \", nb_best_alpha)\n",
    "print(\"Best Naive Bayes score: %.4f\" % nb_best_score)"
   ]
  },
  {
   "cell_type": "code",
   "execution_count": 61,
   "metadata": {},
   "outputs": [
    {
     "name": "stdout",
     "output_type": "stream",
     "text": [
      "Train ROCAUC score: 0.6898\n",
      "Test ROCAUC score: 0.7289\n",
      "Mean CV ROCAUC: 0.7334\n"
     ]
    }
   ],
   "source": [
    "nb_model = nb_grid.best_estimator_\n",
    "nb_y_train_pred = nb_model.predict(X_train)\n",
    "nb_y_pred = nb_model.predict(X_test)\n",
    "\n",
    "nb_best_train_score = roc_auc_score(y_train, nb_y_train_pred)\n",
    "nb_best_test_score = roc_auc_score(y_test, nb_y_pred)\n",
    "print(\"Train ROCAUC score: %.4f\" % nb_best_train_score)\n",
    "print(\"Test ROCAUC score: %.4f\" % nb_best_test_score)\n",
    "\n",
    "nb_best_score = cross_val_score(nb_model, X_train, y_train, cv=5, scoring='roc_auc').mean()\n",
    "print(\"Mean CV ROCAUC: %.4f\" % nb_best_score)"
   ]
  },
  {
   "cell_type": "code",
   "execution_count": 62,
   "metadata": {},
   "outputs": [
    {
     "data": {
      "text/html": [
       "<div>\n",
       "<style scoped>\n",
       "    .dataframe tbody tr th:only-of-type {\n",
       "        vertical-align: middle;\n",
       "    }\n",
       "\n",
       "    .dataframe tbody tr th {\n",
       "        vertical-align: top;\n",
       "    }\n",
       "\n",
       "    .dataframe thead th {\n",
       "        text-align: right;\n",
       "    }\n",
       "</style>\n",
       "<table border=\"1\" class=\"dataframe\">\n",
       "  <thead>\n",
       "    <tr style=\"text-align: right;\">\n",
       "      <th></th>\n",
       "      <th>Standard</th>\n",
       "      <th>Best</th>\n",
       "    </tr>\n",
       "  </thead>\n",
       "  <tbody>\n",
       "    <tr>\n",
       "      <th>Naive Bayes train score</th>\n",
       "      <td>0.692561</td>\n",
       "      <td>0.689834</td>\n",
       "    </tr>\n",
       "    <tr>\n",
       "      <th>Naive Bayes test score</th>\n",
       "      <td>0.733525</td>\n",
       "      <td>0.728946</td>\n",
       "    </tr>\n",
       "    <tr>\n",
       "      <th>Naive Bayes Mean CV score</th>\n",
       "      <td>0.729533</td>\n",
       "      <td>0.733434</td>\n",
       "    </tr>\n",
       "  </tbody>\n",
       "</table>\n",
       "</div>"
      ],
      "text/plain": [
       "                           Standard      Best\n",
       "Naive Bayes train score    0.692561  0.689834\n",
       "Naive Bayes test score     0.733525  0.728946\n",
       "Naive Bayes Mean CV score  0.729533  0.733434"
      ]
     },
     "execution_count": 62,
     "metadata": {},
     "output_type": "execute_result"
    }
   ],
   "source": [
    "nb_results = pd.DataFrame({\n",
    "    \"Standard\" : [complement_nb_train_score, complement_nb_test_score, complement_nb_score],\n",
    "    \"Best\" : [nb_best_train_score, nb_best_test_score, nb_best_score]\n",
    "}, index=[\"Naive Bayes train score\", \"Naive Bayes test score\", \"Naive Bayes Mean CV score\"])\n",
    "nb_results"
   ]
  },
  {
   "attachments": {},
   "cell_type": "markdown",
   "metadata": {},
   "source": [
    "Наивный Байес показывает лучший результат на отложенной выборке, но худший на кросс-валидации"
   ]
  },
  {
   "attachments": {},
   "cell_type": "markdown",
   "metadata": {},
   "source": [
    "Самостоятельная реализация"
   ]
  },
  {
   "cell_type": "code",
   "execution_count": 63,
   "metadata": {},
   "outputs": [],
   "source": [
    "my_X_train = X_train.copy()\n",
    "my_X_test = X_test.copy()"
   ]
  },
  {
   "cell_type": "code",
   "execution_count": 64,
   "metadata": {},
   "outputs": [],
   "source": [
    "def ohe_transform(X, features):\n",
    "    ohe = OneHotEncoder()\n",
    "    new_features = []\n",
    "    for feature in features:\n",
    "        new_ohe_feature = ohe.fit_transform(X[[feature]])\n",
    "        new_features.append(new_ohe_feature.toarray())\n",
    "    encoded_X = np.hstack((new_features[0], new_features[1]))\n",
    "    for i in range(2, len(new_features)):\n",
    "        encoded_X = np.hstack((encoded_X, new_features[i]))\n",
    "    return encoded_X\n",
    "\n",
    "def std_scaler_transform(X, features):\n",
    "    return StandardScaler().fit_transform(X[features])"
   ]
  },
  {
   "cell_type": "code",
   "execution_count": 65,
   "metadata": {},
   "outputs": [],
   "source": [
    "my_X_train = np.hstack((ohe_transform(my_X_train, categorical_features), std_scaler_transform(my_X_train, numeric_features)))\n",
    "my_X_test = np.hstack((ohe_transform(my_X_test, categorical_features), std_scaler_transform(my_X_test, numeric_features)))"
   ]
  },
  {
   "cell_type": "code",
   "execution_count": 66,
   "metadata": {},
   "outputs": [],
   "source": [
    "my_y_train = y_train.values\n",
    "my_y_test = y_test.values"
   ]
  },
  {
   "attachments": {},
   "cell_type": "markdown",
   "metadata": {},
   "source": [
    "Построение модели"
   ]
  },
  {
   "cell_type": "code",
   "execution_count": 67,
   "metadata": {},
   "outputs": [
    {
     "name": "stdout",
     "output_type": "stream",
     "text": [
      "Train ROCAUC score: 0.6007\n",
      "Test ROCAUC score: 0.5793\n"
     ]
    }
   ],
   "source": [
    "my_optimal_theta = fit(my_X_train, my_y_train, plot=False)\n",
    "\n",
    "my_y_train_pred = binary_class_prediction(my_optimal_theta, my_X_train)\n",
    "my_y_pred = binary_class_prediction(my_optimal_theta, my_X_test)\n",
    "\n",
    "my_standard_train_score = roc_auc_score(my_y_train, my_y_train_pred)\n",
    "my_standard_test_score = roc_auc_score(my_y_test, my_y_pred)\n",
    "\n",
    "print(\"Train ROCAUC score: %.4f\" % my_standard_train_score)\n",
    "print(\"Test ROCAUC score: %.4f\" % my_standard_test_score)"
   ]
  },
  {
   "attachments": {},
   "cell_type": "markdown",
   "metadata": {},
   "source": [
    "Гиперпараметры"
   ]
  },
  {
   "cell_type": "code",
   "execution_count": 68,
   "metadata": {},
   "outputs": [],
   "source": [
    "batch_sizes = [10 + i * 5 for i in range(11)]\n",
    "hs = [0.001, 0.01, 0.02, 0.05, 0.1]"
   ]
  },
  {
   "cell_type": "code",
   "execution_count": 69,
   "metadata": {},
   "outputs": [],
   "source": [
    "max_score = 0\n",
    "best_params = {\"batch\": -1, \"h\": -1, \"iters\": -1}\n",
    "best_theta = np.array([])\n",
    "for batch in batch_sizes:\n",
    "    for h in hs:\n",
    "        optimal_theta = fit(my_X_train, my_y_train, plot=False, batch_size=batch, h=h)\n",
    "        pred = binary_class_prediction(my_optimal_theta, my_X_train)\n",
    "        score = roc_auc_score(my_y_train, pred)\n",
    "        if max_score < score:\n",
    "            max_score = score\n",
    "            best_params[\"batch\"] = batch\n",
    "            best_params[\"h\"] = h\n",
    "            best_theta = optimal_theta"
   ]
  },
  {
   "cell_type": "code",
   "execution_count": 70,
   "metadata": {},
   "outputs": [
    {
     "name": "stdout",
     "output_type": "stream",
     "text": [
      "Train ROCAUC score: 0.5657\n",
      "Test ROCAUC score: 0.5510\n"
     ]
    }
   ],
   "source": [
    "my_best_optimal_theta = best_theta\n",
    "\n",
    "my_best_y_train_pred = binary_class_prediction(my_best_optimal_theta, my_X_train)\n",
    "my_best_y_pred = binary_class_prediction(my_best_optimal_theta, my_X_test)\n",
    "\n",
    "my_best_train_score = roc_auc_score(my_y_train, my_best_y_train_pred)\n",
    "my_best_test_score = roc_auc_score(my_y_test, my_best_y_pred)\n",
    "\n",
    "print(\"Train ROCAUC score: %.4f\" % my_best_train_score)\n",
    "print(\"Test ROCAUC score: %.4f\" % my_best_test_score)"
   ]
  },
  {
   "cell_type": "code",
   "execution_count": 71,
   "metadata": {},
   "outputs": [
    {
     "data": {
      "text/html": [
       "<div>\n",
       "<style scoped>\n",
       "    .dataframe tbody tr th:only-of-type {\n",
       "        vertical-align: middle;\n",
       "    }\n",
       "\n",
       "    .dataframe tbody tr th {\n",
       "        vertical-align: top;\n",
       "    }\n",
       "\n",
       "    .dataframe thead th {\n",
       "        text-align: right;\n",
       "    }\n",
       "</style>\n",
       "<table border=\"1\" class=\"dataframe\">\n",
       "  <thead>\n",
       "    <tr style=\"text-align: right;\">\n",
       "      <th></th>\n",
       "      <th>Standard</th>\n",
       "      <th>Best</th>\n",
       "    </tr>\n",
       "  </thead>\n",
       "  <tbody>\n",
       "    <tr>\n",
       "      <th>My train score</th>\n",
       "      <td>0.600727</td>\n",
       "      <td>0.565653</td>\n",
       "    </tr>\n",
       "    <tr>\n",
       "      <th>My test score</th>\n",
       "      <td>0.579340</td>\n",
       "      <td>0.551007</td>\n",
       "    </tr>\n",
       "  </tbody>\n",
       "</table>\n",
       "</div>"
      ],
      "text/plain": [
       "                Standard      Best\n",
       "My train score  0.600727  0.565653\n",
       "My test score   0.579340  0.551007"
      ]
     },
     "execution_count": 71,
     "metadata": {},
     "output_type": "execute_result"
    }
   ],
   "source": [
    "my_results = pd.DataFrame({\n",
    "    \"Standard\" : [my_standard_train_score, my_standard_test_score],\n",
    "    \"Best\" : [my_best_train_score, my_best_test_score]\n",
    "}, index=[\"My train score\", \"My test score\"])\n",
    "my_results"
   ]
  },
  {
   "attachments": {},
   "cell_type": "markdown",
   "metadata": {},
   "source": [
    "## Общий вывод\n"
   ]
  },
  {
   "cell_type": "code",
   "execution_count": 72,
   "metadata": {},
   "outputs": [
    {
     "data": {
      "text/html": [
       "<div>\n",
       "<style scoped>\n",
       "    .dataframe tbody tr th:only-of-type {\n",
       "        vertical-align: middle;\n",
       "    }\n",
       "\n",
       "    .dataframe tbody tr th {\n",
       "        vertical-align: top;\n",
       "    }\n",
       "\n",
       "    .dataframe thead th {\n",
       "        text-align: right;\n",
       "    }\n",
       "</style>\n",
       "<table border=\"1\" class=\"dataframe\">\n",
       "  <thead>\n",
       "    <tr style=\"text-align: right;\">\n",
       "      <th></th>\n",
       "      <th>Standard</th>\n",
       "      <th>Best</th>\n",
       "    </tr>\n",
       "  </thead>\n",
       "  <tbody>\n",
       "    <tr>\n",
       "      <th>Logreg train score</th>\n",
       "      <td>0.717661</td>\n",
       "      <td>0.716297</td>\n",
       "    </tr>\n",
       "    <tr>\n",
       "      <th>Logreg test score</th>\n",
       "      <td>0.711937</td>\n",
       "      <td>0.708721</td>\n",
       "    </tr>\n",
       "    <tr>\n",
       "      <th>Logreg Mean CV score</th>\n",
       "      <td>0.854744</td>\n",
       "      <td>0.855300</td>\n",
       "    </tr>\n",
       "    <tr>\n",
       "      <th>KNN train score</th>\n",
       "      <td>0.771219</td>\n",
       "      <td>0.756609</td>\n",
       "    </tr>\n",
       "    <tr>\n",
       "      <th>KNN test score</th>\n",
       "      <td>0.679755</td>\n",
       "      <td>0.680791</td>\n",
       "    </tr>\n",
       "    <tr>\n",
       "      <th>KNN Mean CV score</th>\n",
       "      <td>0.782061</td>\n",
       "      <td>0.815674</td>\n",
       "    </tr>\n",
       "    <tr>\n",
       "      <th>Naive Bayes train score</th>\n",
       "      <td>0.692561</td>\n",
       "      <td>0.689834</td>\n",
       "    </tr>\n",
       "    <tr>\n",
       "      <th>Naive Bayes test score</th>\n",
       "      <td>0.733525</td>\n",
       "      <td>0.728946</td>\n",
       "    </tr>\n",
       "    <tr>\n",
       "      <th>Naive Bayes Mean CV score</th>\n",
       "      <td>0.729533</td>\n",
       "      <td>0.733434</td>\n",
       "    </tr>\n",
       "    <tr>\n",
       "      <th>My train score</th>\n",
       "      <td>0.600727</td>\n",
       "      <td>0.565653</td>\n",
       "    </tr>\n",
       "    <tr>\n",
       "      <th>My test score</th>\n",
       "      <td>0.579340</td>\n",
       "      <td>0.551007</td>\n",
       "    </tr>\n",
       "  </tbody>\n",
       "</table>\n",
       "</div>"
      ],
      "text/plain": [
       "                           Standard      Best\n",
       "Logreg train score         0.717661  0.716297\n",
       "Logreg test score          0.711937  0.708721\n",
       "Logreg Mean CV score       0.854744  0.855300\n",
       "KNN train score            0.771219  0.756609\n",
       "KNN test score             0.679755  0.680791\n",
       "KNN Mean CV score          0.782061  0.815674\n",
       "Naive Bayes train score    0.692561  0.689834\n",
       "Naive Bayes test score     0.733525  0.728946\n",
       "Naive Bayes Mean CV score  0.729533  0.733434\n",
       "My train score             0.600727  0.565653\n",
       "My test score              0.579340  0.551007"
      ]
     },
     "execution_count": 72,
     "metadata": {},
     "output_type": "execute_result"
    }
   ],
   "source": [
    "all_results = pd.concat([logreg_results, knn_results, nb_results, my_results])\n",
    "all_results"
   ]
  },
  {
   "attachments": {},
   "cell_type": "markdown",
   "metadata": {},
   "source": [
    "Как видно:\n",
    "\n",
    "на кросс-валидации лучшее качество у KNN с подобранными гиперпараметрами,\n",
    "на отложенной выборке у Наивного Байесовского классификатора со стандартными параметрами, это объясняется тем, что гиперпараметры были подобраны с помощью GrisSearchCV, а он выдает параметры для улучшения качаства на кросс-валидации"
   ]
  }
 ],
 "metadata": {
  "kernelspec": {
   "display_name": "Python 3 (ipykernel)",
   "language": "python",
   "name": "python3"
  },
  "language_info": {
   "codemirror_mode": {
    "name": "ipython",
    "version": 3
   },
   "file_extension": ".py",
   "mimetype": "text/x-python",
   "name": "python",
   "nbconvert_exporter": "python",
   "pygments_lexer": "ipython3",
   "version": "3.11.5"
  }
 },
 "nbformat": 4,
 "nbformat_minor": 4
}
